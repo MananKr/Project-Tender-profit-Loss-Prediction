{
 "cells": [
  {
   "cell_type": "code",
   "execution_count": null,
   "id": "24a13467",
   "metadata": {},
   "outputs": [],
   "source": [
    "# SHARKS range of innovative, new generation fire fighting products and systems are designed, manufactured and installed by\n",
    "# Smith & Sharks Projects (India) Pvt. Ltd., a company promoted by a team of India's leading fire engineering experts with over\n",
    "# 40 years of outstanding performance in the field of Fire Protection Engineering and related Research & Development activities.\n",
    "\n",
    "# This is my company's tender related price data, which we charge the client for installation for the electrical fire alarm system.\n",
    "# And I want to apply some algorithm to this data, so that I can find out, how long will it take to complete the project. How many \n",
    "# total workers and materials may be required.\n",
    "# So I can say that this my project, it can give information about the time and men power (men power = electronics and helpers) \n",
    "# prediction so that we can reduce the delay in the project."
   ]
  },
  {
   "cell_type": "markdown",
   "id": "4f2edd04",
   "metadata": {},
   "source": [
    "importing the model which is required for this projects."
   ]
  },
  {
   "cell_type": "code",
   "execution_count": 1,
   "id": "2ccaef8a",
   "metadata": {},
   "outputs": [],
   "source": [
    "import numpy as np\n",
    "import pandas as pd\n",
    "import matplotlib.pyplot as plt\n",
    "import seaborn as sns\n",
    "import warnings\n",
    "warnings.filterwarnings('ignore')\n"
   ]
  },
  {
   "cell_type": "markdown",
   "id": "fa4fb8e3",
   "metadata": {},
   "source": [
    "read the data from excel sheet after converting csv format"
   ]
  },
  {
   "cell_type": "code",
   "execution_count": 2,
   "id": "3155c3b4",
   "metadata": {},
   "outputs": [
    {
     "data": {
      "text/html": [
       "<div>\n",
       "<style scoped>\n",
       "    .dataframe tbody tr th:only-of-type {\n",
       "        vertical-align: middle;\n",
       "    }\n",
       "\n",
       "    .dataframe tbody tr th {\n",
       "        vertical-align: top;\n",
       "    }\n",
       "\n",
       "    .dataframe thead th {\n",
       "        text-align: right;\n",
       "    }\n",
       "</style>\n",
       "<table border=\"1\" class=\"dataframe\">\n",
       "  <thead>\n",
       "    <tr style=\"text-align: right;\">\n",
       "      <th></th>\n",
       "      <th>QUANTITY</th>\n",
       "      <th>supply amount</th>\n",
       "      <th>Total Supply Amount\\n(Including Taxes)</th>\n",
       "      <th>Errection Amount</th>\n",
       "      <th>Total</th>\n",
       "    </tr>\n",
       "  </thead>\n",
       "  <tbody>\n",
       "    <tr>\n",
       "      <th>count</th>\n",
       "      <td>55.000000</td>\n",
       "      <td>55.000000</td>\n",
       "      <td>55.000000</td>\n",
       "      <td>55.000000</td>\n",
       "      <td>55.000000</td>\n",
       "    </tr>\n",
       "    <tr>\n",
       "      <th>mean</th>\n",
       "      <td>18.660000</td>\n",
       "      <td>29456.872727</td>\n",
       "      <td>33404.300594</td>\n",
       "      <td>3390.145455</td>\n",
       "      <td>38759.563636</td>\n",
       "    </tr>\n",
       "    <tr>\n",
       "      <th>std</th>\n",
       "      <td>52.568708</td>\n",
       "      <td>81411.015293</td>\n",
       "      <td>96344.848459</td>\n",
       "      <td>5361.242291</td>\n",
       "      <td>99262.445910</td>\n",
       "    </tr>\n",
       "    <tr>\n",
       "      <th>min</th>\n",
       "      <td>0.000000</td>\n",
       "      <td>0.000000</td>\n",
       "      <td>0.000000</td>\n",
       "      <td>0.000000</td>\n",
       "      <td>0.000000</td>\n",
       "    </tr>\n",
       "    <tr>\n",
       "      <th>25%</th>\n",
       "      <td>0.000000</td>\n",
       "      <td>0.000000</td>\n",
       "      <td>0.000000</td>\n",
       "      <td>0.000000</td>\n",
       "      <td>0.000000</td>\n",
       "    </tr>\n",
       "    <tr>\n",
       "      <th>50%</th>\n",
       "      <td>2.000000</td>\n",
       "      <td>11520.000000</td>\n",
       "      <td>8148.000000</td>\n",
       "      <td>1500.000000</td>\n",
       "      <td>15496.000000</td>\n",
       "    </tr>\n",
       "    <tr>\n",
       "      <th>75%</th>\n",
       "      <td>10.000000</td>\n",
       "      <td>28059.500000</td>\n",
       "      <td>31961.000000</td>\n",
       "      <td>3382.500000</td>\n",
       "      <td>37178.000000</td>\n",
       "    </tr>\n",
       "    <tr>\n",
       "      <th>max</th>\n",
       "      <td>300.000000</td>\n",
       "      <td>552594.000000</td>\n",
       "      <td>652061.000000</td>\n",
       "      <td>21600.000000</td>\n",
       "      <td>676074.000000</td>\n",
       "    </tr>\n",
       "  </tbody>\n",
       "</table>\n",
       "</div>"
      ],
      "text/plain": [
       "         QUANTITY  supply amount  Total Supply Amount\\n(Including Taxes)  \\\n",
       "count   55.000000      55.000000                               55.000000   \n",
       "mean    18.660000   29456.872727                            33404.300594   \n",
       "std     52.568708   81411.015293                            96344.848459   \n",
       "min      0.000000       0.000000                                0.000000   \n",
       "25%      0.000000       0.000000                                0.000000   \n",
       "50%      2.000000   11520.000000                             8148.000000   \n",
       "75%     10.000000   28059.500000                            31961.000000   \n",
       "max    300.000000  552594.000000                           652061.000000   \n",
       "\n",
       "       Errection Amount          Total  \n",
       "count         55.000000      55.000000  \n",
       "mean        3390.145455   38759.563636  \n",
       "std         5361.242291   99262.445910  \n",
       "min            0.000000       0.000000  \n",
       "25%            0.000000       0.000000  \n",
       "50%         1500.000000   15496.000000  \n",
       "75%         3382.500000   37178.000000  \n",
       "max        21600.000000  676074.000000  "
      ]
     },
     "execution_count": 2,
     "metadata": {},
     "output_type": "execute_result"
    }
   ],
   "source": [
    "sspl = pd.read_csv(r\"C:\\Users\\91898\\Desktop\\7AM_Task/south-info-boq-electrical.csv\")\n",
    "df = pd.DataFrame(sspl)\n",
    "df.describe()"
   ]
  },
  {
   "cell_type": "markdown",
   "id": "1f785d78",
   "metadata": {},
   "source": [
    " I'm removing the rows & columns, which is not required"
   ]
  },
  {
   "cell_type": "code",
   "execution_count": 3,
   "id": "75934c66",
   "metadata": {},
   "outputs": [
    {
     "data": {
      "text/html": [
       "<div>\n",
       "<style scoped>\n",
       "    .dataframe tbody tr th:only-of-type {\n",
       "        vertical-align: middle;\n",
       "    }\n",
       "\n",
       "    .dataframe tbody tr th {\n",
       "        vertical-align: top;\n",
       "    }\n",
       "\n",
       "    .dataframe thead th {\n",
       "        text-align: right;\n",
       "    }\n",
       "</style>\n",
       "<table border=\"1\" class=\"dataframe\">\n",
       "  <thead>\n",
       "    <tr style=\"text-align: right;\">\n",
       "      <th></th>\n",
       "      <th>PARTICULARS</th>\n",
       "      <th>UNITS</th>\n",
       "      <th>QUANTITY</th>\n",
       "      <th>UNIT RATE SUPPLY (Rs.)</th>\n",
       "      <th>supply amount</th>\n",
       "      <th>Taxes\\n(GST Etc.)\\n(Indicate % here)</th>\n",
       "      <th>Total Supply Amount\\n(Including Taxes)</th>\n",
       "      <th>UNIT RATE E &amp; C (Rs.) (Basic)</th>\n",
       "      <th>GST Tax\\n(Indicate % here)</th>\n",
       "      <th>Errection Amount</th>\n",
       "      <th>Total E&amp;C Amount \\n(Including Taxes)</th>\n",
       "      <th>Total</th>\n",
       "    </tr>\n",
       "  </thead>\n",
       "  <tbody>\n",
       "    <tr>\n",
       "      <th>1</th>\n",
       "      <td>Main Fire Alarm Panel (4 LOOP)\\nSupply, Instal...</td>\n",
       "      <td>Nos.</td>\n",
       "      <td>0.0</td>\n",
       "      <td>1 78 200</td>\n",
       "      <td>0.0</td>\n",
       "      <td>18%</td>\n",
       "      <td>0.0</td>\n",
       "      <td>15 000</td>\n",
       "      <td>18%</td>\n",
       "      <td>0.0</td>\n",
       "      <td>Rs.00</td>\n",
       "      <td>0.0</td>\n",
       "    </tr>\n",
       "    <tr>\n",
       "      <th>2</th>\n",
       "      <td>Main Fire Alarm Panel (2 LOOP)\\nSupply, Instal...</td>\n",
       "      <td>Nos.</td>\n",
       "      <td>0.0</td>\n",
       "      <td>1 57 000</td>\n",
       "      <td>0.0</td>\n",
       "      <td>18%</td>\n",
       "      <td>0.0</td>\n",
       "      <td>12 000</td>\n",
       "      <td>18%</td>\n",
       "      <td>0.0</td>\n",
       "      <td>Rs.00</td>\n",
       "      <td>0.0</td>\n",
       "    </tr>\n",
       "    <tr>\n",
       "      <th>3</th>\n",
       "      <td>Main Fire Alarm Panel (1 LOOP)\\nSupply, Instal...</td>\n",
       "      <td>Nos.</td>\n",
       "      <td>0.0</td>\n",
       "      <td>81 500</td>\n",
       "      <td>0.0</td>\n",
       "      <td>18%</td>\n",
       "      <td>0.0</td>\n",
       "      <td>10 000</td>\n",
       "      <td>18%</td>\n",
       "      <td>0.0</td>\n",
       "      <td>Rs.00</td>\n",
       "      <td>0.0</td>\n",
       "    </tr>\n",
       "    <tr>\n",
       "      <th>4</th>\n",
       "      <td>LCD Repeater Panel \\nSupply, Installation, Tes...</td>\n",
       "      <td>Nos.</td>\n",
       "      <td>1.0</td>\n",
       "      <td>46 000</td>\n",
       "      <td>46000.0</td>\n",
       "      <td>18%</td>\n",
       "      <td>54280.0</td>\n",
       "      <td>6 000</td>\n",
       "      <td>18%</td>\n",
       "      <td>6000.0</td>\n",
       "      <td>Rs.7080</td>\n",
       "      <td>61360.0</td>\n",
       "    </tr>\n",
       "  </tbody>\n",
       "</table>\n",
       "</div>"
      ],
      "text/plain": [
       "                                         PARTICULARS UNITS  QUANTITY  \\\n",
       "1  Main Fire Alarm Panel (4 LOOP)\\nSupply, Instal...  Nos.       0.0   \n",
       "2  Main Fire Alarm Panel (2 LOOP)\\nSupply, Instal...  Nos.       0.0   \n",
       "3  Main Fire Alarm Panel (1 LOOP)\\nSupply, Instal...  Nos.       0.0   \n",
       "4  LCD Repeater Panel \\nSupply, Installation, Tes...  Nos.       1.0   \n",
       "\n",
       "  UNIT RATE SUPPLY (Rs.)  supply amount Taxes\\n(GST Etc.)\\n(Indicate % here)  \\\n",
       "1               1 78 200            0.0                                  18%   \n",
       "2               1 57 000            0.0                                  18%   \n",
       "3                 81 500            0.0                                  18%   \n",
       "4                 46 000        46000.0                                  18%   \n",
       "\n",
       "   Total Supply Amount\\n(Including Taxes) UNIT RATE E & C (Rs.) (Basic)  \\\n",
       "1                                     0.0                        15 000   \n",
       "2                                     0.0                        12 000   \n",
       "3                                     0.0                        10 000   \n",
       "4                                 54280.0                         6 000   \n",
       "\n",
       "  GST Tax\\n(Indicate % here)  Errection Amount  \\\n",
       "1                        18%               0.0   \n",
       "2                        18%               0.0   \n",
       "3                        18%               0.0   \n",
       "4                        18%            6000.0   \n",
       "\n",
       "  Total E&C Amount \\n(Including Taxes)    Total  \n",
       "1                                Rs.00      0.0  \n",
       "2                                Rs.00      0.0  \n",
       "3                                Rs.00      0.0  \n",
       "4                              Rs.7080  61360.0  "
      ]
     },
     "execution_count": 3,
     "metadata": {},
     "output_type": "execute_result"
    }
   ],
   "source": [
    "df1=df[['PARTICULARS', 'UNITS', 'QUANTITY', 'UNIT RATE SUPPLY (Rs.)',\n",
    "       'supply amount', 'Taxes\\n(GST Etc.)\\n(Indicate % here)',\n",
    "       'Total Supply Amount\\n(Including Taxes)',\n",
    "       'UNIT RATE E & C (Rs.) (Basic)','GST Tax\\n(Indicate % here)',\n",
    "       'Errection Amount', 'Total E&C Amount \\n(Including Taxes)', 'Total']]\n",
    "df1.iloc[1:5:,::]"
   ]
  },
  {
   "cell_type": "code",
   "execution_count": 4,
   "id": "7877959f",
   "metadata": {},
   "outputs": [
    {
     "data": {
      "text/plain": [
       "61360.0"
      ]
     },
     "execution_count": 4,
     "metadata": {},
     "output_type": "execute_result"
    }
   ],
   "source": [
    "fas_price = df1['Total'].loc[1:4].sum()\n",
    "fas_price"
   ]
  },
  {
   "cell_type": "code",
   "execution_count": 5,
   "id": "25c99667",
   "metadata": {},
   "outputs": [],
   "source": [
    "# df1.iloc[5:26:,::]"
   ]
  },
  {
   "cell_type": "code",
   "execution_count": 6,
   "id": "9e35708a",
   "metadata": {},
   "outputs": [
    {
     "data": {
      "text/html": [
       "<div>\n",
       "<style scoped>\n",
       "    .dataframe tbody tr th:only-of-type {\n",
       "        vertical-align: middle;\n",
       "    }\n",
       "\n",
       "    .dataframe tbody tr th {\n",
       "        vertical-align: top;\n",
       "    }\n",
       "\n",
       "    .dataframe thead th {\n",
       "        text-align: right;\n",
       "    }\n",
       "</style>\n",
       "<table border=\"1\" class=\"dataframe\">\n",
       "  <thead>\n",
       "    <tr style=\"text-align: right;\">\n",
       "      <th></th>\n",
       "      <th>PARTICULARS</th>\n",
       "      <th>Total</th>\n",
       "    </tr>\n",
       "  </thead>\n",
       "  <tbody>\n",
       "    <tr>\n",
       "      <th>6</th>\n",
       "      <td>Addressable Multi Sensor Detector\\nSupply, Ins...</td>\n",
       "      <td>76199.0</td>\n",
       "    </tr>\n",
       "    <tr>\n",
       "      <th>7</th>\n",
       "      <td>Beam Detector with reflector\\nSupply, Installa...</td>\n",
       "      <td>0.0</td>\n",
       "    </tr>\n",
       "    <tr>\n",
       "      <th>8</th>\n",
       "      <td>Beam Detector Controller</td>\n",
       "      <td>0.0</td>\n",
       "    </tr>\n",
       "    <tr>\n",
       "      <th>9</th>\n",
       "      <td>Optical Smoke Imaging Detector (OSID)\\nSupply,...</td>\n",
       "      <td>0.0</td>\n",
       "    </tr>\n",
       "    <tr>\n",
       "      <th>10</th>\n",
       "      <td>Heat Detector (Rate of Rise)\\nSupply, Installa...</td>\n",
       "      <td>0.0</td>\n",
       "    </tr>\n",
       "    <tr>\n",
       "      <th>11</th>\n",
       "      <td>Alarm Initiating  Devices</td>\n",
       "      <td>NaN</td>\n",
       "    </tr>\n",
       "    <tr>\n",
       "      <th>12</th>\n",
       "      <td>Indoor Manual Call Point\\nSupply, Installation...</td>\n",
       "      <td>21028.0</td>\n",
       "    </tr>\n",
       "    <tr>\n",
       "      <th>13</th>\n",
       "      <td>Audio &amp; Visual Notification Device</td>\n",
       "      <td>NaN</td>\n",
       "    </tr>\n",
       "    <tr>\n",
       "      <th>14</th>\n",
       "      <td>Indoor Hooter cum Strobe\\nSupply, Installation...</td>\n",
       "      <td>21358.0</td>\n",
       "    </tr>\n",
       "    <tr>\n",
       "      <th>15</th>\n",
       "      <td>Modules</td>\n",
       "      <td>NaN</td>\n",
       "    </tr>\n",
       "    <tr>\n",
       "      <th>16</th>\n",
       "      <td>Control Module (For Hooters)\\nSupply,Installat...</td>\n",
       "      <td>20414.0</td>\n",
       "    </tr>\n",
       "    <tr>\n",
       "      <th>17</th>\n",
       "      <td>Control Relay Module for 3rd Party Integration...</td>\n",
       "      <td>5104.0</td>\n",
       "    </tr>\n",
       "    <tr>\n",
       "      <th>18</th>\n",
       "      <td>Monitor Module (For Conventional Detectors)\\nS...</td>\n",
       "      <td>0.0</td>\n",
       "    </tr>\n",
       "    <tr>\n",
       "      <th>19</th>\n",
       "      <td>Monitor Module (For Fire doors feedback signal...</td>\n",
       "      <td>0.0</td>\n",
       "    </tr>\n",
       "    <tr>\n",
       "      <th>20</th>\n",
       "      <td>Relay Module for Future interface with any AHU...</td>\n",
       "      <td>8054.0</td>\n",
       "    </tr>\n",
       "    <tr>\n",
       "      <th>21</th>\n",
       "      <td>Input Module for pumproom feedback signal</td>\n",
       "      <td>49324.0</td>\n",
       "    </tr>\n",
       "    <tr>\n",
       "      <th>22</th>\n",
       "      <td>Limit switch for fire doors</td>\n",
       "      <td>0.0</td>\n",
       "    </tr>\n",
       "    <tr>\n",
       "      <th>23</th>\n",
       "      <td>Fault Isolator Module\\nSupply,Installation,Tes...</td>\n",
       "      <td>0.0</td>\n",
       "    </tr>\n",
       "    <tr>\n",
       "      <th>24</th>\n",
       "      <td>Response Indicator\\nSupply,Installation,Testin...</td>\n",
       "      <td>0.0</td>\n",
       "    </tr>\n",
       "    <tr>\n",
       "      <th>25</th>\n",
       "      <td>Power Supply Unit \\nSupply &amp; Installation, Tes...</td>\n",
       "      <td>0.0</td>\n",
       "    </tr>\n",
       "  </tbody>\n",
       "</table>\n",
       "</div>"
      ],
      "text/plain": [
       "                                          PARTICULARS    Total\n",
       "6   Addressable Multi Sensor Detector\\nSupply, Ins...  76199.0\n",
       "7   Beam Detector with reflector\\nSupply, Installa...      0.0\n",
       "8                            Beam Detector Controller      0.0\n",
       "9   Optical Smoke Imaging Detector (OSID)\\nSupply,...      0.0\n",
       "10  Heat Detector (Rate of Rise)\\nSupply, Installa...      0.0\n",
       "11                          Alarm Initiating  Devices      NaN\n",
       "12  Indoor Manual Call Point\\nSupply, Installation...  21028.0\n",
       "13                Audio & Visual Notification Device       NaN\n",
       "14  Indoor Hooter cum Strobe\\nSupply, Installation...  21358.0\n",
       "15                                            Modules      NaN\n",
       "16  Control Module (For Hooters)\\nSupply,Installat...  20414.0\n",
       "17  Control Relay Module for 3rd Party Integration...   5104.0\n",
       "18  Monitor Module (For Conventional Detectors)\\nS...      0.0\n",
       "19  Monitor Module (For Fire doors feedback signal...      0.0\n",
       "20  Relay Module for Future interface with any AHU...   8054.0\n",
       "21          Input Module for pumproom feedback signal  49324.0\n",
       "22                        Limit switch for fire doors      0.0\n",
       "23  Fault Isolator Module\\nSupply,Installation,Tes...      0.0\n",
       "24  Response Indicator\\nSupply,Installation,Testin...      0.0\n",
       "25  Power Supply Unit \\nSupply & Installation, Tes...      0.0"
      ]
     },
     "execution_count": 6,
     "metadata": {},
     "output_type": "execute_result"
    }
   ],
   "source": [
    "device_details = df1[['PARTICULARS','Total']].loc[6:25]\n",
    "device_details"
   ]
  },
  {
   "cell_type": "code",
   "execution_count": 7,
   "id": "2a671161",
   "metadata": {},
   "outputs": [
    {
     "data": {
      "text/plain": [
       "Total    201481.0\n",
       "dtype: float64"
      ]
     },
     "execution_count": 7,
     "metadata": {},
     "output_type": "execute_result"
    }
   ],
   "source": [
    "dev_install_Price = df1[['Total']].loc[6:25].sum()\n",
    "dev_install_Price "
   ]
  },
  {
   "cell_type": "code",
   "execution_count": 8,
   "id": "c4349f8c",
   "metadata": {},
   "outputs": [
    {
     "data": {
      "text/html": [
       "<div>\n",
       "<style scoped>\n",
       "    .dataframe tbody tr th:only-of-type {\n",
       "        vertical-align: middle;\n",
       "    }\n",
       "\n",
       "    .dataframe tbody tr th {\n",
       "        vertical-align: top;\n",
       "    }\n",
       "\n",
       "    .dataframe thead th {\n",
       "        text-align: right;\n",
       "    }\n",
       "</style>\n",
       "<table border=\"1\" class=\"dataframe\">\n",
       "  <thead>\n",
       "    <tr style=\"text-align: right;\">\n",
       "      <th></th>\n",
       "      <th>PARTICULARS</th>\n",
       "      <th>UNITS</th>\n",
       "      <th>QUANTITY</th>\n",
       "      <th>supply amount</th>\n",
       "      <th>Total</th>\n",
       "    </tr>\n",
       "  </thead>\n",
       "  <tbody>\n",
       "    <tr>\n",
       "      <th>27</th>\n",
       "      <td>2Cx1.5 mm2, Armoured Cable\\nSupply &amp; laying  o...</td>\n",
       "      <td>Mtr</td>\n",
       "      <td>300.0</td>\n",
       "      <td>28500.0</td>\n",
       "      <td>59118.0</td>\n",
       "    </tr>\n",
       "  </tbody>\n",
       "</table>\n",
       "</div>"
      ],
      "text/plain": [
       "                                          PARTICULARS UNITS  QUANTITY  \\\n",
       "27  2Cx1.5 mm2, Armoured Cable\\nSupply & laying  o...   Mtr     300.0   \n",
       "\n",
       "    supply amount    Total  \n",
       "27        28500.0  59118.0  "
      ]
     },
     "execution_count": 8,
     "metadata": {},
     "output_type": "execute_result"
    }
   ],
   "source": [
    "cable_details= df1[['PARTICULARS','UNITS','QUANTITY','supply amount','Total']].loc[27:27]\n",
    "cable_details"
   ]
  },
  {
   "cell_type": "code",
   "execution_count": 9,
   "id": "d08460c2",
   "metadata": {},
   "outputs": [
    {
     "data": {
      "text/plain": [
       "Total    59118.0\n",
       "dtype: float64"
      ]
     },
     "execution_count": 9,
     "metadata": {},
     "output_type": "execute_result"
    }
   ],
   "source": [
    "cable_install_Price = df1[['Total']].loc[27:27].sum()\n",
    "cable_install_Price "
   ]
  },
  {
   "cell_type": "code",
   "execution_count": 10,
   "id": "dee4d762",
   "metadata": {},
   "outputs": [
    {
     "data": {
      "text/html": [
       "<div>\n",
       "<style scoped>\n",
       "    .dataframe tbody tr th:only-of-type {\n",
       "        vertical-align: middle;\n",
       "    }\n",
       "\n",
       "    .dataframe tbody tr th {\n",
       "        vertical-align: top;\n",
       "    }\n",
       "\n",
       "    .dataframe thead th {\n",
       "        text-align: right;\n",
       "    }\n",
       "</style>\n",
       "<table border=\"1\" class=\"dataframe\">\n",
       "  <thead>\n",
       "    <tr style=\"text-align: right;\">\n",
       "      <th></th>\n",
       "      <th>PARTICULARS</th>\n",
       "      <th>UNITS</th>\n",
       "      <th>QUANTITY</th>\n",
       "      <th>supply amount</th>\n",
       "      <th>Total</th>\n",
       "    </tr>\n",
       "  </thead>\n",
       "  <tbody>\n",
       "    <tr>\n",
       "      <th>30</th>\n",
       "      <td>25 MM METAL CONDUIT\\nSupply &amp; laying  of  25mm...</td>\n",
       "      <td>Mtr</td>\n",
       "      <td>50.0</td>\n",
       "      <td>14700.0</td>\n",
       "      <td>32096.0</td>\n",
       "    </tr>\n",
       "  </tbody>\n",
       "</table>\n",
       "</div>"
      ],
      "text/plain": [
       "                                          PARTICULARS UNITS  QUANTITY  \\\n",
       "30  25 MM METAL CONDUIT\\nSupply & laying  of  25mm...   Mtr      50.0   \n",
       "\n",
       "    supply amount    Total  \n",
       "30        14700.0  32096.0  "
      ]
     },
     "execution_count": 10,
     "metadata": {},
     "output_type": "execute_result"
    }
   ],
   "source": [
    "conduit_details= df1[['PARTICULARS','UNITS','QUANTITY','supply amount','Total']].loc[30:30]\n",
    "conduit_details"
   ]
  },
  {
   "cell_type": "code",
   "execution_count": 11,
   "id": "3f20d7ee",
   "metadata": {},
   "outputs": [
    {
     "data": {
      "text/plain": [
       "Total    32096.0\n",
       "dtype: float64"
      ]
     },
     "execution_count": 11,
     "metadata": {},
     "output_type": "execute_result"
    }
   ],
   "source": [
    "conduit_install_Price = df1[['Total']].loc[30:30].sum()\n",
    "conduit_install_Price"
   ]
  },
  {
   "cell_type": "code",
   "execution_count": 12,
   "id": "a730ba4d",
   "metadata": {},
   "outputs": [
    {
     "data": {
      "text/html": [
       "<div>\n",
       "<style scoped>\n",
       "    .dataframe tbody tr th:only-of-type {\n",
       "        vertical-align: middle;\n",
       "    }\n",
       "\n",
       "    .dataframe tbody tr th {\n",
       "        vertical-align: top;\n",
       "    }\n",
       "\n",
       "    .dataframe thead th {\n",
       "        text-align: right;\n",
       "    }\n",
       "</style>\n",
       "<table border=\"1\" class=\"dataframe\">\n",
       "  <thead>\n",
       "    <tr style=\"text-align: right;\">\n",
       "      <th></th>\n",
       "      <th>PARTICULARS</th>\n",
       "      <th>UNITS</th>\n",
       "      <th>QUANTITY</th>\n",
       "      <th>supply amount</th>\n",
       "      <th>Total</th>\n",
       "    </tr>\n",
       "  </thead>\n",
       "  <tbody>\n",
       "    <tr>\n",
       "      <th>32</th>\n",
       "      <td>PORTABLE FIRE EXTINGUISHERS</td>\n",
       "      <td>NaN</td>\n",
       "      <td>NaN</td>\n",
       "      <td>NaN</td>\n",
       "      <td>NaN</td>\n",
       "    </tr>\n",
       "    <tr>\n",
       "      <th>33</th>\n",
       "      <td>CO2 type Fire Extinguisher 4.5 Kg Capacity mad...</td>\n",
       "      <td>NO</td>\n",
       "      <td>4.0</td>\n",
       "      <td>29460.0</td>\n",
       "      <td>36061.0</td>\n",
       "    </tr>\n",
       "    <tr>\n",
       "      <th>34</th>\n",
       "      <td>ABC Dry Powder (MAP 50%) Stored Pressure type ...</td>\n",
       "      <td>NO</td>\n",
       "      <td>8.0</td>\n",
       "      <td>26552.0</td>\n",
       "      <td>33927.0</td>\n",
       "    </tr>\n",
       "    <tr>\n",
       "      <th>35</th>\n",
       "      <td>Mechanical Foam Stored Pressure, Portable Type...</td>\n",
       "      <td>NO</td>\n",
       "      <td>4.0</td>\n",
       "      <td>12340.0</td>\n",
       "      <td>15859.0</td>\n",
       "    </tr>\n",
       "    <tr>\n",
       "      <th>36</th>\n",
       "      <td>Mechanical Foam type Fire Extinguisher 45 Litr...</td>\n",
       "      <td>NO</td>\n",
       "      <td>1.0</td>\n",
       "      <td>11520.0</td>\n",
       "      <td>14243.0</td>\n",
       "    </tr>\n",
       "  </tbody>\n",
       "</table>\n",
       "</div>"
      ],
      "text/plain": [
       "                                          PARTICULARS UNITS  QUANTITY  \\\n",
       "32                        PORTABLE FIRE EXTINGUISHERS   NaN       NaN   \n",
       "33  CO2 type Fire Extinguisher 4.5 Kg Capacity mad...    NO       4.0   \n",
       "34  ABC Dry Powder (MAP 50%) Stored Pressure type ...    NO       8.0   \n",
       "35  Mechanical Foam Stored Pressure, Portable Type...    NO       4.0   \n",
       "36  Mechanical Foam type Fire Extinguisher 45 Litr...    NO       1.0   \n",
       "\n",
       "    supply amount    Total  \n",
       "32            NaN      NaN  \n",
       "33        29460.0  36061.0  \n",
       "34        26552.0  33927.0  \n",
       "35        12340.0  15859.0  \n",
       "36        11520.0  14243.0  "
      ]
     },
     "execution_count": 12,
     "metadata": {},
     "output_type": "execute_result"
    }
   ],
   "source": [
    "fire_exti_details= df1[['PARTICULARS','UNITS','QUANTITY','supply amount','Total']].loc[32:36]\n",
    "fire_exti_details"
   ]
  },
  {
   "cell_type": "code",
   "execution_count": 13,
   "id": "3ab2c584",
   "metadata": {},
   "outputs": [
    {
     "data": {
      "text/plain": [
       "Total    100090.0\n",
       "dtype: float64"
      ]
     },
     "execution_count": 13,
     "metadata": {},
     "output_type": "execute_result"
    }
   ],
   "source": [
    "fire_exti_install_Price = df1[['Total']].loc[32:36].sum()\n",
    "fire_exti_install_Price"
   ]
  },
  {
   "cell_type": "code",
   "execution_count": 14,
   "id": "b8793128",
   "metadata": {},
   "outputs": [
    {
     "data": {
      "text/html": [
       "<div>\n",
       "<style scoped>\n",
       "    .dataframe tbody tr th:only-of-type {\n",
       "        vertical-align: middle;\n",
       "    }\n",
       "\n",
       "    .dataframe tbody tr th {\n",
       "        vertical-align: top;\n",
       "    }\n",
       "\n",
       "    .dataframe thead th {\n",
       "        text-align: right;\n",
       "    }\n",
       "</style>\n",
       "<table border=\"1\" class=\"dataframe\">\n",
       "  <thead>\n",
       "    <tr style=\"text-align: right;\">\n",
       "      <th></th>\n",
       "      <th>PARTICULARS</th>\n",
       "      <th>UNITS</th>\n",
       "      <th>QUANTITY</th>\n",
       "      <th>supply amount</th>\n",
       "      <th>Total</th>\n",
       "    </tr>\n",
       "  </thead>\n",
       "  <tbody>\n",
       "    <tr>\n",
       "      <th>37</th>\n",
       "      <td>LT SWITCHGEAR PANELS</td>\n",
       "      <td>NaN</td>\n",
       "      <td>NaN</td>\n",
       "      <td>NaN</td>\n",
       "      <td>NaN</td>\n",
       "    </tr>\n",
       "    <tr>\n",
       "      <th>38</th>\n",
       "      <td>FIRE PANEL (MCC PANEL): 415V, 50Hz, short circ...</td>\n",
       "      <td>NO</td>\n",
       "      <td>1.0</td>\n",
       "      <td>552594.0</td>\n",
       "      <td>676074.0</td>\n",
       "    </tr>\n",
       "    <tr>\n",
       "      <th>39</th>\n",
       "      <td>Automatic Diesel Engine Control Panel for Stan...</td>\n",
       "      <td>NO</td>\n",
       "      <td>1.0</td>\n",
       "      <td>60000.0</td>\n",
       "      <td>77290.0</td>\n",
       "    </tr>\n",
       "    <tr>\n",
       "      <th>40</th>\n",
       "      <td>LT POWER / CONTROL CABLES</td>\n",
       "      <td>NaN</td>\n",
       "      <td>NaN</td>\n",
       "      <td>NaN</td>\n",
       "      <td>NaN</td>\n",
       "    </tr>\n",
       "    <tr>\n",
       "      <th>41</th>\n",
       "      <td>3.5 C X 240 sq. mm A2XFY 1100 Voltage grade, M...</td>\n",
       "      <td>M</td>\n",
       "      <td>70.0</td>\n",
       "      <td>70889.0</td>\n",
       "      <td>100004.0</td>\n",
       "    </tr>\n",
       "    <tr>\n",
       "      <th>42</th>\n",
       "      <td>3 C X 16 sq. mm A2XFY  Power Cables from Fire ...</td>\n",
       "      <td>M</td>\n",
       "      <td>25.0</td>\n",
       "      <td>3452.0</td>\n",
       "      <td>6198.0</td>\n",
       "    </tr>\n",
       "    <tr>\n",
       "      <th>43</th>\n",
       "      <td>14 C X 1.5 sq. mm 2XWY  Power Cables from Fire...</td>\n",
       "      <td>M</td>\n",
       "      <td>25.0</td>\n",
       "      <td>10933.0</td>\n",
       "      <td>15496.0</td>\n",
       "    </tr>\n",
       "    <tr>\n",
       "      <th>44</th>\n",
       "      <td>2 C X 1.5 sq. mm 2XWY</td>\n",
       "      <td>M</td>\n",
       "      <td>250.0</td>\n",
       "      <td>30250.0</td>\n",
       "      <td>60180.0</td>\n",
       "    </tr>\n",
       "    <tr>\n",
       "      <th>45</th>\n",
       "      <td>LT CABLE TERMINATION</td>\n",
       "      <td>NaN</td>\n",
       "      <td>NaN</td>\n",
       "      <td>NaN</td>\n",
       "      <td>NaN</td>\n",
       "    </tr>\n",
       "    <tr>\n",
       "      <th>46</th>\n",
       "      <td>3.5 C X 240 sq. mm A2XFY</td>\n",
       "      <td>NO</td>\n",
       "      <td>8.0</td>\n",
       "      <td>12152.0</td>\n",
       "      <td>16209.0</td>\n",
       "    </tr>\n",
       "    <tr>\n",
       "      <th>47</th>\n",
       "      <td>3 C X 16 sq. mm A2XFY</td>\n",
       "      <td>NO</td>\n",
       "      <td>2.0</td>\n",
       "      <td>767.0</td>\n",
       "      <td>1101.0</td>\n",
       "    </tr>\n",
       "    <tr>\n",
       "      <th>48</th>\n",
       "      <td>14 C X 1.5 sq. mm 2XWY</td>\n",
       "      <td>NO</td>\n",
       "      <td>2.0</td>\n",
       "      <td>577.0</td>\n",
       "      <td>888.0</td>\n",
       "    </tr>\n",
       "    <tr>\n",
       "      <th>49</th>\n",
       "      <td>2 C X 1.5 sq. mm 2XWY</td>\n",
       "      <td>NO</td>\n",
       "      <td>50.0</td>\n",
       "      <td>6050.0</td>\n",
       "      <td>12036.0</td>\n",
       "    </tr>\n",
       "  </tbody>\n",
       "</table>\n",
       "</div>"
      ],
      "text/plain": [
       "                                          PARTICULARS UNITS  QUANTITY  \\\n",
       "37                               LT SWITCHGEAR PANELS   NaN       NaN   \n",
       "38  FIRE PANEL (MCC PANEL): 415V, 50Hz, short circ...    NO       1.0   \n",
       "39  Automatic Diesel Engine Control Panel for Stan...    NO       1.0   \n",
       "40                          LT POWER / CONTROL CABLES   NaN       NaN   \n",
       "41  3.5 C X 240 sq. mm A2XFY 1100 Voltage grade, M...     M      70.0   \n",
       "42  3 C X 16 sq. mm A2XFY  Power Cables from Fire ...     M      25.0   \n",
       "43  14 C X 1.5 sq. mm 2XWY  Power Cables from Fire...     M      25.0   \n",
       "44                            2 C X 1.5 sq. mm 2XWY       M     250.0   \n",
       "45                               LT CABLE TERMINATION   NaN       NaN   \n",
       "46                          3.5 C X 240 sq. mm A2XFY     NO       8.0   \n",
       "47                            3 C X 16 sq. mm A2XFY      NO       2.0   \n",
       "48                           14 C X 1.5 sq. mm 2XWY      NO       2.0   \n",
       "49                            2 C X 1.5 sq. mm 2XWY      NO      50.0   \n",
       "\n",
       "    supply amount     Total  \n",
       "37            NaN       NaN  \n",
       "38       552594.0  676074.0  \n",
       "39        60000.0   77290.0  \n",
       "40            NaN       NaN  \n",
       "41        70889.0  100004.0  \n",
       "42         3452.0    6198.0  \n",
       "43        10933.0   15496.0  \n",
       "44        30250.0   60180.0  \n",
       "45            NaN       NaN  \n",
       "46        12152.0   16209.0  \n",
       "47          767.0    1101.0  \n",
       "48          577.0     888.0  \n",
       "49         6050.0   12036.0  "
      ]
     },
     "execution_count": 14,
     "metadata": {},
     "output_type": "execute_result"
    }
   ],
   "source": [
    "mcc_install_Price= df1[['PARTICULARS','UNITS','QUANTITY','supply amount','Total']].loc[37:49]\n",
    "mcc_install_Price"
   ]
  },
  {
   "cell_type": "code",
   "execution_count": 15,
   "id": "49b96e4b",
   "metadata": {},
   "outputs": [
    {
     "data": {
      "text/plain": [
       "Total    965476.0\n",
       "dtype: float64"
      ]
     },
     "execution_count": 15,
     "metadata": {},
     "output_type": "execute_result"
    }
   ],
   "source": [
    "mcc_install_Price = df1[['Total']].loc[37:49].sum()\n",
    "mcc_install_Price"
   ]
  },
  {
   "cell_type": "code",
   "execution_count": 16,
   "id": "28db85ee",
   "metadata": {},
   "outputs": [
    {
     "data": {
      "text/html": [
       "<div>\n",
       "<style scoped>\n",
       "    .dataframe tbody tr th:only-of-type {\n",
       "        vertical-align: middle;\n",
       "    }\n",
       "\n",
       "    .dataframe tbody tr th {\n",
       "        vertical-align: top;\n",
       "    }\n",
       "\n",
       "    .dataframe thead th {\n",
       "        text-align: right;\n",
       "    }\n",
       "</style>\n",
       "<table border=\"1\" class=\"dataframe\">\n",
       "  <thead>\n",
       "    <tr style=\"text-align: right;\">\n",
       "      <th></th>\n",
       "      <th>PARTICULARS</th>\n",
       "      <th>UNITS</th>\n",
       "      <th>QUANTITY</th>\n",
       "      <th>supply amount</th>\n",
       "      <th>Total</th>\n",
       "    </tr>\n",
       "  </thead>\n",
       "  <tbody>\n",
       "    <tr>\n",
       "      <th>50</th>\n",
       "      <td>CABLE TRAYS</td>\n",
       "      <td>NaN</td>\n",
       "      <td>NaN</td>\n",
       "      <td>NaN</td>\n",
       "      <td>NaN</td>\n",
       "    </tr>\n",
       "    <tr>\n",
       "      <th>51</th>\n",
       "      <td>300 mm width (Vertical ladder type cable tray ...</td>\n",
       "      <td>M</td>\n",
       "      <td>10.0</td>\n",
       "      <td>27619.0</td>\n",
       "      <td>35836.0</td>\n",
       "    </tr>\n",
       "    <tr>\n",
       "      <th>52</th>\n",
       "      <td>300 mm width (Horizontal ladder type cable tray)</td>\n",
       "      <td>M</td>\n",
       "      <td>15.0</td>\n",
       "      <td>31072.0</td>\n",
       "      <td>41532.0</td>\n",
       "    </tr>\n",
       "    <tr>\n",
       "      <th>53</th>\n",
       "      <td>150 mm width (Vertical perforated type cable t...</td>\n",
       "      <td>M</td>\n",
       "      <td>10.0</td>\n",
       "      <td>14070.0</td>\n",
       "      <td>18881.0</td>\n",
       "    </tr>\n",
       "    <tr>\n",
       "      <th>54</th>\n",
       "      <td>75 mm width (Vertical perforated type cable tr...</td>\n",
       "      <td>M</td>\n",
       "      <td>20.0</td>\n",
       "      <td>20009.0</td>\n",
       "      <td>27245.0</td>\n",
       "    </tr>\n",
       "    <tr>\n",
       "      <th>55</th>\n",
       "      <td>150 mm width (Horizontal perforated type cable...</td>\n",
       "      <td>M</td>\n",
       "      <td>10.0</td>\n",
       "      <td>14070.0</td>\n",
       "      <td>18881.0</td>\n",
       "    </tr>\n",
       "    <tr>\n",
       "      <th>56</th>\n",
       "      <td>75 mm width (Horizontal perforated type cable ...</td>\n",
       "      <td>M</td>\n",
       "      <td>8.0</td>\n",
       "      <td>8003.0</td>\n",
       "      <td>10898.0</td>\n",
       "    </tr>\n",
       "    <tr>\n",
       "      <th>57</th>\n",
       "      <td>Cable tray supports, supporting frame for moun...</td>\n",
       "      <td>TON</td>\n",
       "      <td>0.3</td>\n",
       "      <td>28770.0</td>\n",
       "      <td>49525.0</td>\n",
       "    </tr>\n",
       "    <tr>\n",
       "      <th>58</th>\n",
       "      <td>EARTHING SYSTEM- Earthing system including sup...</td>\n",
       "      <td>NaN</td>\n",
       "      <td>NaN</td>\n",
       "      <td>NaN</td>\n",
       "      <td>NaN</td>\n",
       "    </tr>\n",
       "    <tr>\n",
       "      <th>59</th>\n",
       "      <td>50 X 6 mm G.I. STRIP</td>\n",
       "      <td>M</td>\n",
       "      <td>40.0</td>\n",
       "      <td>17799.0</td>\n",
       "      <td>25440.0</td>\n",
       "    </tr>\n",
       "    <tr>\n",
       "      <th>60</th>\n",
       "      <td>25 X 6 mm G.I. STRIP</td>\n",
       "      <td>M</td>\n",
       "      <td>30.0</td>\n",
       "      <td>6905.0</td>\n",
       "      <td>10696.0</td>\n",
       "    </tr>\n",
       "    <tr>\n",
       "      <th>61</th>\n",
       "      <td>8 SWG GI WIRE</td>\n",
       "      <td>M</td>\n",
       "      <td>20.0</td>\n",
       "      <td>4603.0</td>\n",
       "      <td>7131.0</td>\n",
       "    </tr>\n",
       "    <tr>\n",
       "      <th>62</th>\n",
       "      <td>Treated earth pits as per CEIG specific requir...</td>\n",
       "      <td>NO</td>\n",
       "      <td>1.0</td>\n",
       "      <td>25778.0</td>\n",
       "      <td>40802.0</td>\n",
       "    </tr>\n",
       "  </tbody>\n",
       "</table>\n",
       "</div>"
      ],
      "text/plain": [
       "                                          PARTICULARS UNITS  QUANTITY  \\\n",
       "50                                        CABLE TRAYS   NaN       NaN   \n",
       "51  300 mm width (Vertical ladder type cable tray ...     M      10.0   \n",
       "52   300 mm width (Horizontal ladder type cable tray)     M      15.0   \n",
       "53  150 mm width (Vertical perforated type cable t...     M      10.0   \n",
       "54  75 mm width (Vertical perforated type cable tr...     M      20.0   \n",
       "55  150 mm width (Horizontal perforated type cable...     M      10.0   \n",
       "56  75 mm width (Horizontal perforated type cable ...     M       8.0   \n",
       "57  Cable tray supports, supporting frame for moun...   TON       0.3   \n",
       "58  EARTHING SYSTEM- Earthing system including sup...   NaN       NaN   \n",
       "59                              50 X 6 mm G.I. STRIP      M      40.0   \n",
       "60                              25 X 6 mm G.I. STRIP      M      30.0   \n",
       "61                                     8 SWG GI WIRE      M      20.0   \n",
       "62  Treated earth pits as per CEIG specific requir...    NO       1.0   \n",
       "\n",
       "    supply amount    Total  \n",
       "50            NaN      NaN  \n",
       "51        27619.0  35836.0  \n",
       "52        31072.0  41532.0  \n",
       "53        14070.0  18881.0  \n",
       "54        20009.0  27245.0  \n",
       "55        14070.0  18881.0  \n",
       "56         8003.0  10898.0  \n",
       "57        28770.0  49525.0  \n",
       "58            NaN      NaN  \n",
       "59        17799.0  25440.0  \n",
       "60         6905.0  10696.0  \n",
       "61         4603.0   7131.0  \n",
       "62        25778.0  40802.0  "
      ]
     },
     "execution_count": 16,
     "metadata": {},
     "output_type": "execute_result"
    }
   ],
   "source": [
    "cable_try_details= df1[['PARTICULARS','UNITS','QUANTITY','supply amount','Total']].loc[50:62]\n",
    "cable_try_details"
   ]
  },
  {
   "cell_type": "code",
   "execution_count": 17,
   "id": "6e741ca5",
   "metadata": {},
   "outputs": [
    {
     "data": {
      "text/plain": [
       "Total    286867.0\n",
       "dtype: float64"
      ]
     },
     "execution_count": 17,
     "metadata": {},
     "output_type": "execute_result"
    }
   ],
   "source": [
    "cable_try_install_Price = df1[['Total']].loc[50:62].sum()\n",
    "cable_try_install_Price"
   ]
  },
  {
   "cell_type": "code",
   "execution_count": 18,
   "id": "d7dada21",
   "metadata": {},
   "outputs": [
    {
     "data": {
      "text/html": [
       "<div>\n",
       "<style scoped>\n",
       "    .dataframe tbody tr th:only-of-type {\n",
       "        vertical-align: middle;\n",
       "    }\n",
       "\n",
       "    .dataframe tbody tr th {\n",
       "        vertical-align: top;\n",
       "    }\n",
       "\n",
       "    .dataframe thead th {\n",
       "        text-align: right;\n",
       "    }\n",
       "</style>\n",
       "<table border=\"1\" class=\"dataframe\">\n",
       "  <thead>\n",
       "    <tr style=\"text-align: right;\">\n",
       "      <th></th>\n",
       "      <th>PARTICULARS</th>\n",
       "      <th>UNITS</th>\n",
       "      <th>QUANTITY</th>\n",
       "      <th>supply amount</th>\n",
       "      <th>Total</th>\n",
       "    </tr>\n",
       "  </thead>\n",
       "  <tbody>\n",
       "    <tr>\n",
       "      <th>63</th>\n",
       "      <td>INSTRUMENTATION</td>\n",
       "      <td>NaN</td>\n",
       "      <td>NaN</td>\n",
       "      <td>NaN</td>\n",
       "      <td>NaN</td>\n",
       "    </tr>\n",
       "    <tr>\n",
       "      <th>64</th>\n",
       "      <td>Level Switch for Fire Water Storage Tank</td>\n",
       "      <td>NO</td>\n",
       "      <td>2.0</td>\n",
       "      <td>29154.0</td>\n",
       "      <td>38295.0</td>\n",
       "    </tr>\n",
       "    <tr>\n",
       "      <th>65</th>\n",
       "      <td>Pressure Gauge, Bourdon Type, 100 mm Dial and ...</td>\n",
       "      <td>NO</td>\n",
       "      <td>5.0</td>\n",
       "      <td>3376.0</td>\n",
       "      <td>6255.0</td>\n",
       "    </tr>\n",
       "    <tr>\n",
       "      <th>66</th>\n",
       "      <td>Pressure Switch, SPDT, Measuring Element - Bel...</td>\n",
       "      <td>NO</td>\n",
       "      <td>9.0</td>\n",
       "      <td>49024.0</td>\n",
       "      <td>61937.0</td>\n",
       "    </tr>\n",
       "    <tr>\n",
       "      <th>67</th>\n",
       "      <td>200 NB Flow Meter</td>\n",
       "      <td>NO</td>\n",
       "      <td>1.0</td>\n",
       "      <td>268520.0</td>\n",
       "      <td>318801.0</td>\n",
       "    </tr>\n",
       "  </tbody>\n",
       "</table>\n",
       "</div>"
      ],
      "text/plain": [
       "                                          PARTICULARS UNITS  QUANTITY  \\\n",
       "63                                    INSTRUMENTATION   NaN       NaN   \n",
       "64           Level Switch for Fire Water Storage Tank    NO       2.0   \n",
       "65  Pressure Gauge, Bourdon Type, 100 mm Dial and ...    NO       5.0   \n",
       "66  Pressure Switch, SPDT, Measuring Element - Bel...    NO       9.0   \n",
       "67                                  200 NB Flow Meter    NO       1.0   \n",
       "\n",
       "    supply amount     Total  \n",
       "63            NaN       NaN  \n",
       "64        29154.0   38295.0  \n",
       "65         3376.0    6255.0  \n",
       "66        49024.0   61937.0  \n",
       "67       268520.0  318801.0  "
      ]
     },
     "execution_count": 18,
     "metadata": {},
     "output_type": "execute_result"
    }
   ],
   "source": [
    "switch_details= df1[['PARTICULARS','UNITS','QUANTITY','supply amount','Total']].loc[63:68]\n",
    "switch_details"
   ]
  },
  {
   "cell_type": "code",
   "execution_count": 19,
   "id": "7ee46345",
   "metadata": {},
   "outputs": [
    {
     "data": {
      "text/plain": [
       "Total    425288.0\n",
       "dtype: float64"
      ]
     },
     "execution_count": 19,
     "metadata": {},
     "output_type": "execute_result"
    }
   ],
   "source": [
    "switch_install_Price = df1[['Total']].loc[63:67].sum()\n",
    "switch_install_Price"
   ]
  },
  {
   "cell_type": "code",
   "execution_count": 20,
   "id": "73948e9c",
   "metadata": {},
   "outputs": [
    {
     "name": "stdout",
     "output_type": "stream",
     "text": [
      "TOTAL ELECTRICAL WORK 0RDER VALUE = 2131776.0\n"
     ]
    }
   ],
   "source": [
    "south_s1 = df1['Total'].sum()\n",
    "print('TOTAL ELECTRICAL WORK 0RDER VALUE =',south_s1)"
   ]
  },
  {
   "cell_type": "code",
   "execution_count": 21,
   "id": "96548039",
   "metadata": {},
   "outputs": [
    {
     "name": "stdout",
     "output_type": "stream",
     "text": [
      "['switch_install_Price' 'cable_try_install_Price' 'mcc_install_Price'\n",
      " 'fire_exti_install_Price' 'fas_price' 'conduit_install_Price'\n",
      " 'cable_install_Price' 'dev_install_Price'] <class 'numpy.ndarray'>\n"
     ]
    }
   ],
   "source": [
    "a = np.array(['switch_install_Price','cable_try_install_Price', 'mcc_install_Price', 'fire_exti_install_Price', 'fas_price', 'conduit_install_Price',\n",
    " 'cable_install_Price', 'dev_install_Price'])\n",
    "\n",
    "print(a, type(a))"
   ]
  },
  {
   "cell_type": "code",
   "execution_count": 22,
   "id": "f6f02550",
   "metadata": {},
   "outputs": [],
   "source": [
    "# bb = switch_install_Price,cable_try_install_Price,mcc_install_Price,fire_exti_install_Price,fas_price,conduit_install_Price,\n",
    "# cable_install_Price,dev_install_Price\n",
    "\n",
    "det = list(a)\n",
    "# Sort a details of list for data visualizations \n",
    "det1=det.sort()\n",
    "\n",
    "prices = [425288.0,286867.0,965476.0,100090.0,61360.0,32096.0,59118.0,201481.0]"
   ]
  },
  {
   "cell_type": "code",
   "execution_count": 23,
   "id": "b60e686d",
   "metadata": {},
   "outputs": [
    {
     "data": {
      "text/plain": [
       "{'cable_install_Price': 425288.0,\n",
       " 'cable_try_install_Price': 286867.0,\n",
       " 'conduit_install_Price': 965476.0,\n",
       " 'dev_install_Price': 100090.0,\n",
       " 'fas_price': 61360.0,\n",
       " 'fire_exti_install_Price': 32096.0,\n",
       " 'mcc_install_Price': 59118.0,\n",
       " 'switch_install_Price': 201481.0}"
      ]
     },
     "execution_count": 23,
     "metadata": {},
     "output_type": "execute_result"
    }
   ],
   "source": [
    "details = {det:prices for (det,prices) in zip(det,prices)}\n",
    "\n",
    "# Sort by key\n",
    "details1 = dict(sorted(details.items()))\n",
    "details1"
   ]
  },
  {
   "cell_type": "code",
   "execution_count": 24,
   "id": "059711f2",
   "metadata": {},
   "outputs": [],
   "source": [
    "# Sort by value\n",
    "# dict(sorted(prices.items(), key=lambda item: item[1]))"
   ]
  },
  {
   "cell_type": "markdown",
   "id": "bfb7c0b0",
   "metadata": {},
   "source": [
    "# FAS INSTALLATIONS PRICES DETAILS of PROJECTS"
   ]
  },
  {
   "cell_type": "code",
   "execution_count": 25,
   "id": "5a2c2103",
   "metadata": {},
   "outputs": [
    {
     "data": {
      "image/png": "[encoded data removed]",
      "text/plain": [
       "<Figure size 576x360 with 1 Axes>"
      ]
     },
     "metadata": {
      "needs_background": "light"
     },
     "output_type": "display_data"
    }
   ],
   "source": [
    "# Figure Size\n",
    "fig, ax = plt.subplots(figsize =(8, 5))\n",
    "\n",
    "# Horizontal Bar Plot/ax.barh(name, price)\n",
    "ax.barh(det, prices)\n",
    "\n",
    "# # Remove axes splines\n",
    "for s in ['top', 'bottom', 'left', 'right']:\n",
    "\tax.spines[s].set_visible(False)\n",
    "\n",
    "# Show top values\n",
    "ax.invert_yaxis()\n",
    "\n",
    "# Add annotation to bars\n",
    "for i in ax.patches:\n",
    "\tplt.text(i.get_width()+0.8, i.get_y()+0.9,\n",
    "\t\t\tstr(round((i.get_width()), 5)),\n",
    "\t\t\tfontsize = 12, fontweight ='bold',\n",
    "\t\t\tcolor ='grey')\n",
    "\n",
    "# Add Plot Title\n",
    "ax.set_title('FAS INSTALLATIONS PRICES DETAILS ',\n",
    "\t\t\tloc ='left', )\n",
    "\n",
    "# Add Text watermark\n",
    "fig.text(0.9, 0.15, 'Manan_Kumar', fontsize = 18,\n",
    "\t\tcolor ='green', ha ='right', va ='bottom',\n",
    "\t\talpha = 0.7)\n",
    "\n",
    "# Show Plot\n",
    "plt.show()\n",
    "\n"
   ]
  },
  {
   "cell_type": "markdown",
   "id": "1b1c3d5f",
   "metadata": {},
   "source": [
    "---------------------------------------------------------------------------------------------------------"
   ]
  },
  {
   "cell_type": "markdown",
   "id": "9fbe17f4",
   "metadata": {},
   "source": [
    "\n",
    "\n",
    "\n",
    "\n",
    "\n",
    "\n",
    "\n",
    "\n",
    "\n",
    "\n",
    "\n",
    "\n",
    "# CALCULATTING TIME OF PROJECTS"
   ]
  },
  {
   "cell_type": "markdown",
   "id": "d287c22d",
   "metadata": {},
   "source": [
    "# \n",
    "\n",
    "\n",
    "# CONCATENATING DataFrame"
   ]
  },
  {
   "cell_type": "code",
   "execution_count": 26,
   "id": "489d1532",
   "metadata": {
    "scrolled": true
   },
   "outputs": [],
   "source": [
    "df2 = df1[['PARTICULARS','UNITS','QUANTITY']].loc[1:4] \n",
    "df3 = df1[['PARTICULARS','UNITS','QUANTITY']].loc[6:25]\n",
    "cable_details= df1[['PARTICULARS','UNITS','QUANTITY']].loc[27:27]\n",
    "conduit_details= df1[['PARTICULARS','UNITS','QUANTITY']].loc[30:30]\n",
    "fire_exti_details= df1[['PARTICULARS','UNITS','QUANTITY']].loc[32:36]\n",
    "mcc_install_Price = df1[['PARTICULARS','UNITS','QUANTITY']].loc[37:49]\n",
    "cable_try_details= df1[['PARTICULARS','UNITS','QUANTITY']].loc[50:62]\n",
    "switch_details= df1[['PARTICULARS','UNITS','QUANTITY']].loc[63:68]\n",
    "\n",
    "# concatenating df1 and df2 along rows\n",
    "\n",
    "vertical_concat = pd.concat([df2, df3, cable_details, conduit_details,fire_exti_details,mcc_install_Price,cable_try_details,switch_details ], axis=0)\n",
    "\n",
    "# horizontal_concat = pd.concat([df3, df4], axis=1)"
   ]
  },
  {
   "cell_type": "markdown",
   "id": "48f0ec6d",
   "metadata": {},
   "source": [
    "# FAS ADDRESSABLE INT-MODULE INSTALLATIONS TIME"
   ]
  },
  {
   "cell_type": "code",
   "execution_count": 27,
   "id": "50755c73",
   "metadata": {},
   "outputs": [
    {
     "data": {
      "text/html": [
       "<div>\n",
       "<style scoped>\n",
       "    .dataframe tbody tr th:only-of-type {\n",
       "        vertical-align: middle;\n",
       "    }\n",
       "\n",
       "    .dataframe tbody tr th {\n",
       "        vertical-align: top;\n",
       "    }\n",
       "\n",
       "    .dataframe thead th {\n",
       "        text-align: right;\n",
       "    }\n",
       "</style>\n",
       "<table border=\"1\" class=\"dataframe\">\n",
       "  <thead>\n",
       "    <tr style=\"text-align: right;\">\n",
       "      <th></th>\n",
       "      <th>PARTICULARS</th>\n",
       "      <th>UNITS</th>\n",
       "      <th>QUANTITY</th>\n",
       "    </tr>\n",
       "  </thead>\n",
       "  <tbody>\n",
       "    <tr>\n",
       "      <th>6</th>\n",
       "      <td>Addressable Multi Sensor Detector\\nSupply, Ins...</td>\n",
       "      <td>Nos</td>\n",
       "      <td>21.0</td>\n",
       "    </tr>\n",
       "    <tr>\n",
       "      <th>7</th>\n",
       "      <td>Beam Detector with reflector\\nSupply, Installa...</td>\n",
       "      <td>Nos</td>\n",
       "      <td>0.0</td>\n",
       "    </tr>\n",
       "    <tr>\n",
       "      <th>8</th>\n",
       "      <td>Beam Detector Controller</td>\n",
       "      <td>Nos</td>\n",
       "      <td>0.0</td>\n",
       "    </tr>\n",
       "    <tr>\n",
       "      <th>9</th>\n",
       "      <td>Optical Smoke Imaging Detector (OSID)\\nSupply,...</td>\n",
       "      <td>QRO</td>\n",
       "      <td>0.0</td>\n",
       "    </tr>\n",
       "    <tr>\n",
       "      <th>10</th>\n",
       "      <td>Heat Detector (Rate of Rise)\\nSupply, Installa...</td>\n",
       "      <td>QRO</td>\n",
       "      <td>0.0</td>\n",
       "    </tr>\n",
       "    <tr>\n",
       "      <th>11</th>\n",
       "      <td>Alarm Initiating  Devices</td>\n",
       "      <td>NaN</td>\n",
       "      <td>NaN</td>\n",
       "    </tr>\n",
       "    <tr>\n",
       "      <th>12</th>\n",
       "      <td>Indoor Manual Call Point\\nSupply, Installation...</td>\n",
       "      <td>Nos</td>\n",
       "      <td>4.0</td>\n",
       "    </tr>\n",
       "    <tr>\n",
       "      <th>13</th>\n",
       "      <td>Audio &amp; Visual Notification Device</td>\n",
       "      <td>NaN</td>\n",
       "      <td>NaN</td>\n",
       "    </tr>\n",
       "    <tr>\n",
       "      <th>14</th>\n",
       "      <td>Indoor Hooter cum Strobe\\nSupply, Installation...</td>\n",
       "      <td>Nos</td>\n",
       "      <td>4.0</td>\n",
       "    </tr>\n",
       "    <tr>\n",
       "      <th>15</th>\n",
       "      <td>Modules</td>\n",
       "      <td>NaN</td>\n",
       "      <td>NaN</td>\n",
       "    </tr>\n",
       "    <tr>\n",
       "      <th>16</th>\n",
       "      <td>Control Module (For Hooters)\\nSupply,Installat...</td>\n",
       "      <td>Nos</td>\n",
       "      <td>4.0</td>\n",
       "    </tr>\n",
       "    <tr>\n",
       "      <th>17</th>\n",
       "      <td>Control Relay Module for 3rd Party Integration...</td>\n",
       "      <td>Nos.</td>\n",
       "      <td>1.0</td>\n",
       "    </tr>\n",
       "    <tr>\n",
       "      <th>18</th>\n",
       "      <td>Monitor Module (For Conventional Detectors)\\nS...</td>\n",
       "      <td>Nos</td>\n",
       "      <td>0.0</td>\n",
       "    </tr>\n",
       "    <tr>\n",
       "      <th>19</th>\n",
       "      <td>Monitor Module (For Fire doors feedback signal...</td>\n",
       "      <td>Nos</td>\n",
       "      <td>0.0</td>\n",
       "    </tr>\n",
       "    <tr>\n",
       "      <th>20</th>\n",
       "      <td>Relay Module for Future interface with any AHU...</td>\n",
       "      <td>Nos</td>\n",
       "      <td>1.0</td>\n",
       "    </tr>\n",
       "    <tr>\n",
       "      <th>21</th>\n",
       "      <td>Input Module for pumproom feedback signal</td>\n",
       "      <td>Nos</td>\n",
       "      <td>8.0</td>\n",
       "    </tr>\n",
       "    <tr>\n",
       "      <th>22</th>\n",
       "      <td>Limit switch for fire doors</td>\n",
       "      <td>Nos</td>\n",
       "      <td>0.0</td>\n",
       "    </tr>\n",
       "    <tr>\n",
       "      <th>23</th>\n",
       "      <td>Fault Isolator Module\\nSupply,Installation,Tes...</td>\n",
       "      <td>Nos</td>\n",
       "      <td>0.0</td>\n",
       "    </tr>\n",
       "    <tr>\n",
       "      <th>24</th>\n",
       "      <td>Response Indicator\\nSupply,Installation,Testin...</td>\n",
       "      <td>Nos.</td>\n",
       "      <td>0.0</td>\n",
       "    </tr>\n",
       "    <tr>\n",
       "      <th>25</th>\n",
       "      <td>Power Supply Unit \\nSupply &amp; Installation, Tes...</td>\n",
       "      <td>Nos</td>\n",
       "      <td>0.0</td>\n",
       "    </tr>\n",
       "  </tbody>\n",
       "</table>\n",
       "</div>"
      ],
      "text/plain": [
       "                                          PARTICULARS UNITS  QUANTITY\n",
       "6   Addressable Multi Sensor Detector\\nSupply, Ins...   Nos      21.0\n",
       "7   Beam Detector with reflector\\nSupply, Installa...   Nos       0.0\n",
       "8                            Beam Detector Controller   Nos       0.0\n",
       "9   Optical Smoke Imaging Detector (OSID)\\nSupply,...   QRO       0.0\n",
       "10  Heat Detector (Rate of Rise)\\nSupply, Installa...   QRO       0.0\n",
       "11                          Alarm Initiating  Devices   NaN       NaN\n",
       "12  Indoor Manual Call Point\\nSupply, Installation...   Nos       4.0\n",
       "13                Audio & Visual Notification Device    NaN       NaN\n",
       "14  Indoor Hooter cum Strobe\\nSupply, Installation...   Nos       4.0\n",
       "15                                            Modules   NaN       NaN\n",
       "16  Control Module (For Hooters)\\nSupply,Installat...   Nos       4.0\n",
       "17  Control Relay Module for 3rd Party Integration...  Nos.       1.0\n",
       "18  Monitor Module (For Conventional Detectors)\\nS...   Nos       0.0\n",
       "19  Monitor Module (For Fire doors feedback signal...   Nos       0.0\n",
       "20  Relay Module for Future interface with any AHU...   Nos       1.0\n",
       "21          Input Module for pumproom feedback signal   Nos       8.0\n",
       "22                        Limit switch for fire doors   Nos       0.0\n",
       "23  Fault Isolator Module\\nSupply,Installation,Tes...   Nos       0.0\n",
       "24  Response Indicator\\nSupply,Installation,Testin...  Nos.       0.0\n",
       "25  Power Supply Unit \\nSupply & Installation, Tes...   Nos       0.0"
      ]
     },
     "execution_count": 27,
     "metadata": {},
     "output_type": "execute_result"
    }
   ],
   "source": [
    "vertical_concat.loc[5:25]\n"
   ]
  },
  {
   "cell_type": "code",
   "execution_count": 28,
   "id": "a2d98024",
   "metadata": {},
   "outputs": [
    {
     "name": "stdout",
     "output_type": "stream",
     "text": [
      "module_installation_time =  8.6 Days\n"
     ]
    }
   ],
   "source": [
    "DEVICE = vertical_concat['QUANTITY'].loc[5:25].sum()/5\n",
    "print(\"module_installation_time = \",DEVICE, \"Days\")"
   ]
  },
  {
   "cell_type": "markdown",
   "id": "20ec7178",
   "metadata": {},
   "source": [
    "# REPEATER PANEL INSTALLATION"
   ]
  },
  {
   "cell_type": "code",
   "execution_count": 29,
   "id": "834ed8c0",
   "metadata": {},
   "outputs": [
    {
     "data": {
      "text/html": [
       "<div>\n",
       "<style scoped>\n",
       "    .dataframe tbody tr th:only-of-type {\n",
       "        vertical-align: middle;\n",
       "    }\n",
       "\n",
       "    .dataframe tbody tr th {\n",
       "        vertical-align: top;\n",
       "    }\n",
       "\n",
       "    .dataframe thead th {\n",
       "        text-align: right;\n",
       "    }\n",
       "</style>\n",
       "<table border=\"1\" class=\"dataframe\">\n",
       "  <thead>\n",
       "    <tr style=\"text-align: right;\">\n",
       "      <th></th>\n",
       "      <th>PARTICULARS</th>\n",
       "      <th>UNITS</th>\n",
       "      <th>QUANTITY</th>\n",
       "    </tr>\n",
       "  </thead>\n",
       "  <tbody>\n",
       "    <tr>\n",
       "      <th>1</th>\n",
       "      <td>Main Fire Alarm Panel (4 LOOP)\\nSupply, Instal...</td>\n",
       "      <td>Nos.</td>\n",
       "      <td>0.0</td>\n",
       "    </tr>\n",
       "    <tr>\n",
       "      <th>2</th>\n",
       "      <td>Main Fire Alarm Panel (2 LOOP)\\nSupply, Instal...</td>\n",
       "      <td>Nos.</td>\n",
       "      <td>0.0</td>\n",
       "    </tr>\n",
       "    <tr>\n",
       "      <th>3</th>\n",
       "      <td>Main Fire Alarm Panel (1 LOOP)\\nSupply, Instal...</td>\n",
       "      <td>Nos.</td>\n",
       "      <td>0.0</td>\n",
       "    </tr>\n",
       "    <tr>\n",
       "      <th>4</th>\n",
       "      <td>LCD Repeater Panel \\nSupply, Installation, Tes...</td>\n",
       "      <td>Nos.</td>\n",
       "      <td>1.0</td>\n",
       "    </tr>\n",
       "  </tbody>\n",
       "</table>\n",
       "</div>"
      ],
      "text/plain": [
       "                                         PARTICULARS UNITS  QUANTITY\n",
       "1  Main Fire Alarm Panel (4 LOOP)\\nSupply, Instal...  Nos.       0.0\n",
       "2  Main Fire Alarm Panel (2 LOOP)\\nSupply, Instal...  Nos.       0.0\n",
       "3  Main Fire Alarm Panel (1 LOOP)\\nSupply, Instal...  Nos.       0.0\n",
       "4  LCD Repeater Panel \\nSupply, Installation, Tes...  Nos.       1.0"
      ]
     },
     "execution_count": 29,
     "metadata": {},
     "output_type": "execute_result"
    }
   ],
   "source": [
    "rep_panel_time = vertical_concat[['PARTICULARS','UNITS','QUANTITY']].loc[1:4]\n",
    "rep_panel_time"
   ]
  },
  {
   "cell_type": "code",
   "execution_count": 30,
   "id": "4b3047c6",
   "metadata": {},
   "outputs": [
    {
     "name": "stdout",
     "output_type": "stream",
     "text": [
      "rp_installation_time =  1.0 Days\n"
     ]
    }
   ],
   "source": [
    "PANEL = rep_panel_time['QUANTITY'].sum()\n",
    "print(\"rp_installation_time = \",PANEL, \"Days\")"
   ]
  },
  {
   "cell_type": "markdown",
   "id": "5f9546df",
   "metadata": {},
   "source": [
    "# CABLE INSTALLATIONS TIME"
   ]
  },
  {
   "cell_type": "code",
   "execution_count": 31,
   "id": "f0ed3e69",
   "metadata": {},
   "outputs": [
    {
     "data": {
      "text/html": [
       "<div>\n",
       "<style scoped>\n",
       "    .dataframe tbody tr th:only-of-type {\n",
       "        vertical-align: middle;\n",
       "    }\n",
       "\n",
       "    .dataframe tbody tr th {\n",
       "        vertical-align: top;\n",
       "    }\n",
       "\n",
       "    .dataframe thead th {\n",
       "        text-align: right;\n",
       "    }\n",
       "</style>\n",
       "<table border=\"1\" class=\"dataframe\">\n",
       "  <thead>\n",
       "    <tr style=\"text-align: right;\">\n",
       "      <th></th>\n",
       "      <th>PARTICULARS</th>\n",
       "      <th>UNITS</th>\n",
       "      <th>QUANTITY</th>\n",
       "    </tr>\n",
       "  </thead>\n",
       "  <tbody>\n",
       "    <tr>\n",
       "      <th>27</th>\n",
       "      <td>2Cx1.5 mm2, Armoured Cable\\nSupply &amp; laying  o...</td>\n",
       "      <td>Mtr</td>\n",
       "      <td>300.0</td>\n",
       "    </tr>\n",
       "    <tr>\n",
       "      <th>30</th>\n",
       "      <td>25 MM METAL CONDUIT\\nSupply &amp; laying  of  25mm...</td>\n",
       "      <td>Mtr</td>\n",
       "      <td>50.0</td>\n",
       "    </tr>\n",
       "  </tbody>\n",
       "</table>\n",
       "</div>"
      ],
      "text/plain": [
       "                                          PARTICULARS UNITS  QUANTITY\n",
       "27  2Cx1.5 mm2, Armoured Cable\\nSupply & laying  o...   Mtr     300.0\n",
       "30  25 MM METAL CONDUIT\\nSupply & laying  of  25mm...   Mtr      50.0"
      ]
     },
     "execution_count": 31,
     "metadata": {},
     "output_type": "execute_result"
    }
   ],
   "source": [
    "vertical_concat.iloc[24:26]"
   ]
  },
  {
   "cell_type": "code",
   "execution_count": 32,
   "id": "1887a9e5",
   "metadata": {},
   "outputs": [
    {
     "name": "stdout",
     "output_type": "stream",
     "text": [
      "CABLE_LAYING TIME = 3.5 days\n"
     ]
    }
   ],
   "source": [
    "CABLE_LAYING  = vertical_concat['QUANTITY'].iloc[24:26].sum()/100\n",
    "print('CABLE_LAYING TIME =',CABLE_LAYING,'days')"
   ]
  },
  {
   "cell_type": "markdown",
   "id": "b65f40a2",
   "metadata": {},
   "source": [
    "# PORTABLE FIRE EXTINGUISHERS installation time"
   ]
  },
  {
   "cell_type": "code",
   "execution_count": 33,
   "id": "d66c556b",
   "metadata": {},
   "outputs": [
    {
     "data": {
      "text/html": [
       "<div>\n",
       "<style scoped>\n",
       "    .dataframe tbody tr th:only-of-type {\n",
       "        vertical-align: middle;\n",
       "    }\n",
       "\n",
       "    .dataframe tbody tr th {\n",
       "        vertical-align: top;\n",
       "    }\n",
       "\n",
       "    .dataframe thead th {\n",
       "        text-align: right;\n",
       "    }\n",
       "</style>\n",
       "<table border=\"1\" class=\"dataframe\">\n",
       "  <thead>\n",
       "    <tr style=\"text-align: right;\">\n",
       "      <th></th>\n",
       "      <th>PARTICULARS</th>\n",
       "      <th>UNITS</th>\n",
       "      <th>QUANTITY</th>\n",
       "    </tr>\n",
       "  </thead>\n",
       "  <tbody>\n",
       "    <tr>\n",
       "      <th>32</th>\n",
       "      <td>PORTABLE FIRE EXTINGUISHERS</td>\n",
       "      <td>NaN</td>\n",
       "      <td>NaN</td>\n",
       "    </tr>\n",
       "    <tr>\n",
       "      <th>33</th>\n",
       "      <td>CO2 type Fire Extinguisher 4.5 Kg Capacity mad...</td>\n",
       "      <td>NO</td>\n",
       "      <td>4.0</td>\n",
       "    </tr>\n",
       "    <tr>\n",
       "      <th>34</th>\n",
       "      <td>ABC Dry Powder (MAP 50%) Stored Pressure type ...</td>\n",
       "      <td>NO</td>\n",
       "      <td>8.0</td>\n",
       "    </tr>\n",
       "    <tr>\n",
       "      <th>35</th>\n",
       "      <td>Mechanical Foam Stored Pressure, Portable Type...</td>\n",
       "      <td>NO</td>\n",
       "      <td>4.0</td>\n",
       "    </tr>\n",
       "    <tr>\n",
       "      <th>36</th>\n",
       "      <td>Mechanical Foam type Fire Extinguisher 45 Litr...</td>\n",
       "      <td>NO</td>\n",
       "      <td>1.0</td>\n",
       "    </tr>\n",
       "  </tbody>\n",
       "</table>\n",
       "</div>"
      ],
      "text/plain": [
       "                                          PARTICULARS UNITS  QUANTITY\n",
       "32                        PORTABLE FIRE EXTINGUISHERS   NaN       NaN\n",
       "33  CO2 type Fire Extinguisher 4.5 Kg Capacity mad...    NO       4.0\n",
       "34  ABC Dry Powder (MAP 50%) Stored Pressure type ...    NO       8.0\n",
       "35  Mechanical Foam Stored Pressure, Portable Type...    NO       4.0\n",
       "36  Mechanical Foam type Fire Extinguisher 45 Litr...    NO       1.0"
      ]
     },
     "execution_count": 33,
     "metadata": {},
     "output_type": "execute_result"
    }
   ],
   "source": [
    "vertical_concat.iloc[26:31]"
   ]
  },
  {
   "cell_type": "code",
   "execution_count": 34,
   "id": "0eca7d52",
   "metadata": {},
   "outputs": [
    {
     "name": "stdout",
     "output_type": "stream",
     "text": [
      "CYL_INSTALLATION TIME = 1 days\n"
     ]
    }
   ],
   "source": [
    "FIRE_EXT_CYL = vertical_concat['QUANTITY'].iloc[26:31].sum()/30\n",
    "if FIRE_EXT_CYL > 0.5 and FIRE_EXT_CYL< 0.9:\n",
    "    FIRE_EXT_CYL = round(FIRE_EXT_CYL)\n",
    "else:\n",
    "    FIRE_EXT_CYL\n",
    "    \n",
    "print('CYL_INSTALLATION TIME =',FIRE_EXT_CYL,'days')"
   ]
  },
  {
   "cell_type": "markdown",
   "id": "a3dc052b",
   "metadata": {},
   "source": [
    "# LT Panel installation time"
   ]
  },
  {
   "cell_type": "code",
   "execution_count": 35,
   "id": "b095b2aa",
   "metadata": {},
   "outputs": [
    {
     "data": {
      "text/html": [
       "<div>\n",
       "<style scoped>\n",
       "    .dataframe tbody tr th:only-of-type {\n",
       "        vertical-align: middle;\n",
       "    }\n",
       "\n",
       "    .dataframe tbody tr th {\n",
       "        vertical-align: top;\n",
       "    }\n",
       "\n",
       "    .dataframe thead th {\n",
       "        text-align: right;\n",
       "    }\n",
       "</style>\n",
       "<table border=\"1\" class=\"dataframe\">\n",
       "  <thead>\n",
       "    <tr style=\"text-align: right;\">\n",
       "      <th></th>\n",
       "      <th>PARTICULARS</th>\n",
       "      <th>UNITS</th>\n",
       "      <th>QUANTITY</th>\n",
       "    </tr>\n",
       "  </thead>\n",
       "  <tbody>\n",
       "    <tr>\n",
       "      <th>37</th>\n",
       "      <td>LT SWITCHGEAR PANELS</td>\n",
       "      <td>NaN</td>\n",
       "      <td>NaN</td>\n",
       "    </tr>\n",
       "    <tr>\n",
       "      <th>38</th>\n",
       "      <td>FIRE PANEL (MCC PANEL): 415V, 50Hz, short circ...</td>\n",
       "      <td>NO</td>\n",
       "      <td>1.0</td>\n",
       "    </tr>\n",
       "    <tr>\n",
       "      <th>39</th>\n",
       "      <td>Automatic Diesel Engine Control Panel for Stan...</td>\n",
       "      <td>NO</td>\n",
       "      <td>1.0</td>\n",
       "    </tr>\n",
       "  </tbody>\n",
       "</table>\n",
       "</div>"
      ],
      "text/plain": [
       "                                          PARTICULARS UNITS  QUANTITY\n",
       "37                               LT SWITCHGEAR PANELS   NaN       NaN\n",
       "38  FIRE PANEL (MCC PANEL): 415V, 50Hz, short circ...    NO       1.0\n",
       "39  Automatic Diesel Engine Control Panel for Stan...    NO       1.0"
      ]
     },
     "execution_count": 35,
     "metadata": {},
     "output_type": "execute_result"
    }
   ],
   "source": [
    "vertical_concat.iloc[31:34]"
   ]
  },
  {
   "cell_type": "code",
   "execution_count": 36,
   "id": "dfe5ed8a",
   "metadata": {},
   "outputs": [
    {
     "name": "stdout",
     "output_type": "stream",
     "text": [
      "LT PANELS INSTALLATION TIME = 4.0 days\n"
     ]
    }
   ],
   "source": [
    "LT_PANEL_MCC = vertical_concat['QUANTITY'].iloc[31:34].sum()*2\n",
    "print('LT PANELS INSTALLATION TIME =',LT_PANEL_MCC,'days')"
   ]
  },
  {
   "cell_type": "markdown",
   "id": "223166c9",
   "metadata": {},
   "source": [
    "# LT POWER / CONTROL CABLES laaying & connection time"
   ]
  },
  {
   "cell_type": "code",
   "execution_count": 37,
   "id": "0dc4d7ff",
   "metadata": {},
   "outputs": [
    {
     "data": {
      "text/html": [
       "<div>\n",
       "<style scoped>\n",
       "    .dataframe tbody tr th:only-of-type {\n",
       "        vertical-align: middle;\n",
       "    }\n",
       "\n",
       "    .dataframe tbody tr th {\n",
       "        vertical-align: top;\n",
       "    }\n",
       "\n",
       "    .dataframe thead th {\n",
       "        text-align: right;\n",
       "    }\n",
       "</style>\n",
       "<table border=\"1\" class=\"dataframe\">\n",
       "  <thead>\n",
       "    <tr style=\"text-align: right;\">\n",
       "      <th></th>\n",
       "      <th>PARTICULARS</th>\n",
       "      <th>UNITS</th>\n",
       "      <th>QUANTITY</th>\n",
       "    </tr>\n",
       "  </thead>\n",
       "  <tbody>\n",
       "    <tr>\n",
       "      <th>40</th>\n",
       "      <td>LT POWER / CONTROL CABLES</td>\n",
       "      <td>NaN</td>\n",
       "      <td>NaN</td>\n",
       "    </tr>\n",
       "    <tr>\n",
       "      <th>41</th>\n",
       "      <td>3.5 C X 240 sq. mm A2XFY 1100 Voltage grade, M...</td>\n",
       "      <td>M</td>\n",
       "      <td>70.0</td>\n",
       "    </tr>\n",
       "    <tr>\n",
       "      <th>42</th>\n",
       "      <td>3 C X 16 sq. mm A2XFY  Power Cables from Fire ...</td>\n",
       "      <td>M</td>\n",
       "      <td>25.0</td>\n",
       "    </tr>\n",
       "    <tr>\n",
       "      <th>43</th>\n",
       "      <td>14 C X 1.5 sq. mm 2XWY  Power Cables from Fire...</td>\n",
       "      <td>M</td>\n",
       "      <td>25.0</td>\n",
       "    </tr>\n",
       "    <tr>\n",
       "      <th>44</th>\n",
       "      <td>2 C X 1.5 sq. mm 2XWY</td>\n",
       "      <td>M</td>\n",
       "      <td>250.0</td>\n",
       "    </tr>\n",
       "  </tbody>\n",
       "</table>\n",
       "</div>"
      ],
      "text/plain": [
       "                                          PARTICULARS UNITS  QUANTITY\n",
       "40                          LT POWER / CONTROL CABLES   NaN       NaN\n",
       "41  3.5 C X 240 sq. mm A2XFY 1100 Voltage grade, M...     M      70.0\n",
       "42  3 C X 16 sq. mm A2XFY  Power Cables from Fire ...     M      25.0\n",
       "43  14 C X 1.5 sq. mm 2XWY  Power Cables from Fire...     M      25.0\n",
       "44                            2 C X 1.5 sq. mm 2XWY       M     250.0"
      ]
     },
     "execution_count": 37,
     "metadata": {},
     "output_type": "execute_result"
    }
   ],
   "source": [
    "vertical_concat.iloc[34:39]"
   ]
  },
  {
   "cell_type": "code",
   "execution_count": 38,
   "id": "eec4a432",
   "metadata": {},
   "outputs": [
    {
     "name": "stdout",
     "output_type": "stream",
     "text": [
      "CABLE INSTALLATION TIME = 3.7 days\n"
     ]
    }
   ],
   "source": [
    "CONDUIT_LAYING = vertical_concat['QUANTITY'].iloc[34:39].sum()/100\n",
    "print('CABLE INSTALLATION TIME =',CONDUIT_LAYING ,'days')"
   ]
  },
  {
   "cell_type": "markdown",
   "id": "3848e69d",
   "metadata": {},
   "source": [
    "# LT CABLE TERMINATION time"
   ]
  },
  {
   "cell_type": "code",
   "execution_count": 39,
   "id": "597e1eb7",
   "metadata": {},
   "outputs": [
    {
     "data": {
      "text/html": [
       "<div>\n",
       "<style scoped>\n",
       "    .dataframe tbody tr th:only-of-type {\n",
       "        vertical-align: middle;\n",
       "    }\n",
       "\n",
       "    .dataframe tbody tr th {\n",
       "        vertical-align: top;\n",
       "    }\n",
       "\n",
       "    .dataframe thead th {\n",
       "        text-align: right;\n",
       "    }\n",
       "</style>\n",
       "<table border=\"1\" class=\"dataframe\">\n",
       "  <thead>\n",
       "    <tr style=\"text-align: right;\">\n",
       "      <th></th>\n",
       "      <th>PARTICULARS</th>\n",
       "      <th>UNITS</th>\n",
       "      <th>QUANTITY</th>\n",
       "    </tr>\n",
       "  </thead>\n",
       "  <tbody>\n",
       "    <tr>\n",
       "      <th>45</th>\n",
       "      <td>LT CABLE TERMINATION</td>\n",
       "      <td>NaN</td>\n",
       "      <td>NaN</td>\n",
       "    </tr>\n",
       "    <tr>\n",
       "      <th>46</th>\n",
       "      <td>3.5 C X 240 sq. mm A2XFY</td>\n",
       "      <td>NO</td>\n",
       "      <td>8.0</td>\n",
       "    </tr>\n",
       "    <tr>\n",
       "      <th>47</th>\n",
       "      <td>3 C X 16 sq. mm A2XFY</td>\n",
       "      <td>NO</td>\n",
       "      <td>2.0</td>\n",
       "    </tr>\n",
       "    <tr>\n",
       "      <th>48</th>\n",
       "      <td>14 C X 1.5 sq. mm 2XWY</td>\n",
       "      <td>NO</td>\n",
       "      <td>2.0</td>\n",
       "    </tr>\n",
       "    <tr>\n",
       "      <th>49</th>\n",
       "      <td>2 C X 1.5 sq. mm 2XWY</td>\n",
       "      <td>NO</td>\n",
       "      <td>50.0</td>\n",
       "    </tr>\n",
       "  </tbody>\n",
       "</table>\n",
       "</div>"
      ],
      "text/plain": [
       "                  PARTICULARS UNITS  QUANTITY\n",
       "45       LT CABLE TERMINATION   NaN       NaN\n",
       "46  3.5 C X 240 sq. mm A2XFY     NO       8.0\n",
       "47    3 C X 16 sq. mm A2XFY      NO       2.0\n",
       "48   14 C X 1.5 sq. mm 2XWY      NO       2.0\n",
       "49    2 C X 1.5 sq. mm 2XWY      NO      50.0"
      ]
     },
     "execution_count": 39,
     "metadata": {},
     "output_type": "execute_result"
    }
   ],
   "source": [
    "vertical_concat.iloc[39:44]"
   ]
  },
  {
   "cell_type": "code",
   "execution_count": 40,
   "id": "c930c576",
   "metadata": {},
   "outputs": [
    {
     "name": "stdout",
     "output_type": "stream",
     "text": [
      "LT CABLE INSTALLATION TIME = 2.48 days\n"
     ]
    }
   ],
   "source": [
    "ltcab = vertical_concat['QUANTITY'].iloc[39:44].sum()\n",
    "LT_CABLE_INS_T = (ltcab*2)/50    \n",
    "print('LT CABLE INSTALLATION TIME =',LT_CABLE_INS_T,'days')"
   ]
  },
  {
   "cell_type": "markdown",
   "id": "5999f219",
   "metadata": {},
   "source": [
    "# CABLE TRAYS INSTALLATIONS TIME"
   ]
  },
  {
   "cell_type": "code",
   "execution_count": 41,
   "id": "29efab29",
   "metadata": {},
   "outputs": [
    {
     "data": {
      "text/html": [
       "<div>\n",
       "<style scoped>\n",
       "    .dataframe tbody tr th:only-of-type {\n",
       "        vertical-align: middle;\n",
       "    }\n",
       "\n",
       "    .dataframe tbody tr th {\n",
       "        vertical-align: top;\n",
       "    }\n",
       "\n",
       "    .dataframe thead th {\n",
       "        text-align: right;\n",
       "    }\n",
       "</style>\n",
       "<table border=\"1\" class=\"dataframe\">\n",
       "  <thead>\n",
       "    <tr style=\"text-align: right;\">\n",
       "      <th></th>\n",
       "      <th>PARTICULARS</th>\n",
       "      <th>UNITS</th>\n",
       "      <th>QUANTITY</th>\n",
       "    </tr>\n",
       "  </thead>\n",
       "  <tbody>\n",
       "    <tr>\n",
       "      <th>50</th>\n",
       "      <td>CABLE TRAYS</td>\n",
       "      <td>NaN</td>\n",
       "      <td>NaN</td>\n",
       "    </tr>\n",
       "    <tr>\n",
       "      <th>51</th>\n",
       "      <td>300 mm width (Vertical ladder type cable tray ...</td>\n",
       "      <td>M</td>\n",
       "      <td>10.0</td>\n",
       "    </tr>\n",
       "    <tr>\n",
       "      <th>52</th>\n",
       "      <td>300 mm width (Horizontal ladder type cable tray)</td>\n",
       "      <td>M</td>\n",
       "      <td>15.0</td>\n",
       "    </tr>\n",
       "    <tr>\n",
       "      <th>53</th>\n",
       "      <td>150 mm width (Vertical perforated type cable t...</td>\n",
       "      <td>M</td>\n",
       "      <td>10.0</td>\n",
       "    </tr>\n",
       "    <tr>\n",
       "      <th>54</th>\n",
       "      <td>75 mm width (Vertical perforated type cable tr...</td>\n",
       "      <td>M</td>\n",
       "      <td>20.0</td>\n",
       "    </tr>\n",
       "    <tr>\n",
       "      <th>55</th>\n",
       "      <td>150 mm width (Horizontal perforated type cable...</td>\n",
       "      <td>M</td>\n",
       "      <td>10.0</td>\n",
       "    </tr>\n",
       "    <tr>\n",
       "      <th>56</th>\n",
       "      <td>75 mm width (Horizontal perforated type cable ...</td>\n",
       "      <td>M</td>\n",
       "      <td>8.0</td>\n",
       "    </tr>\n",
       "  </tbody>\n",
       "</table>\n",
       "</div>"
      ],
      "text/plain": [
       "                                          PARTICULARS UNITS  QUANTITY\n",
       "50                                        CABLE TRAYS   NaN       NaN\n",
       "51  300 mm width (Vertical ladder type cable tray ...     M      10.0\n",
       "52   300 mm width (Horizontal ladder type cable tray)     M      15.0\n",
       "53  150 mm width (Vertical perforated type cable t...     M      10.0\n",
       "54  75 mm width (Vertical perforated type cable tr...     M      20.0\n",
       "55  150 mm width (Horizontal perforated type cable...     M      10.0\n",
       "56  75 mm width (Horizontal perforated type cable ...     M       8.0"
      ]
     },
     "execution_count": 41,
     "metadata": {},
     "output_type": "execute_result"
    }
   ],
   "source": [
    "vertical_concat.iloc[44:51]"
   ]
  },
  {
   "cell_type": "code",
   "execution_count": 42,
   "id": "af6593a8",
   "metadata": {},
   "outputs": [
    {
     "name": "stdout",
     "output_type": "stream",
     "text": [
      "CABLE TRAYS INSTALLATION TIME = 1.46 days\n"
     ]
    }
   ],
   "source": [
    "tray = vertical_concat['QUANTITY'].iloc[44:51].sum()\n",
    "TRAY_FIXING= tray/50\n",
    "print('CABLE TRAYS INSTALLATION TIME =',TRAY_FIXING,'days')"
   ]
  },
  {
   "cell_type": "markdown",
   "id": "792f4167",
   "metadata": {},
   "source": [
    "# Cable tray supports fabrication with paint"
   ]
  },
  {
   "cell_type": "code",
   "execution_count": 43,
   "id": "f8f9b839",
   "metadata": {},
   "outputs": [
    {
     "data": {
      "text/html": [
       "<div>\n",
       "<style scoped>\n",
       "    .dataframe tbody tr th:only-of-type {\n",
       "        vertical-align: middle;\n",
       "    }\n",
       "\n",
       "    .dataframe tbody tr th {\n",
       "        vertical-align: top;\n",
       "    }\n",
       "\n",
       "    .dataframe thead th {\n",
       "        text-align: right;\n",
       "    }\n",
       "</style>\n",
       "<table border=\"1\" class=\"dataframe\">\n",
       "  <thead>\n",
       "    <tr style=\"text-align: right;\">\n",
       "      <th></th>\n",
       "      <th>PARTICULARS</th>\n",
       "      <th>UNITS</th>\n",
       "      <th>QUANTITY</th>\n",
       "    </tr>\n",
       "  </thead>\n",
       "  <tbody>\n",
       "    <tr>\n",
       "      <th>57</th>\n",
       "      <td>Cable tray supports, supporting frame for moun...</td>\n",
       "      <td>TON</td>\n",
       "      <td>0.3</td>\n",
       "    </tr>\n",
       "  </tbody>\n",
       "</table>\n",
       "</div>"
      ],
      "text/plain": [
       "                                          PARTICULARS UNITS  QUANTITY\n",
       "57  Cable tray supports, supporting frame for moun...   TON       0.3"
      ]
     },
     "execution_count": 43,
     "metadata": {},
     "output_type": "execute_result"
    }
   ],
   "source": [
    "vertical_concat.iloc[51:52]"
   ]
  },
  {
   "cell_type": "code",
   "execution_count": 44,
   "id": "767970b5",
   "metadata": {},
   "outputs": [
    {
     "name": "stdout",
     "output_type": "stream",
     "text": [
      "TRAY SUPPORT FABRICATION TIME = 2.5 days\n"
     ]
    }
   ],
   "source": [
    "sup = vertical_concat['QUANTITY'].iloc[51:52].sum()*1000\n",
    "MS_SUPPORT= (sup/4)/30 \n",
    "print('TRAY SUPPORT FABRICATION TIME =',MS_SUPPORT,'days')"
   ]
  },
  {
   "cell_type": "markdown",
   "id": "7efeb362",
   "metadata": {},
   "source": [
    "# EARTHING INSTALLATION IN PUMP ROOM"
   ]
  },
  {
   "cell_type": "code",
   "execution_count": 45,
   "id": "c041eb96",
   "metadata": {},
   "outputs": [
    {
     "data": {
      "text/html": [
       "<div>\n",
       "<style scoped>\n",
       "    .dataframe tbody tr th:only-of-type {\n",
       "        vertical-align: middle;\n",
       "    }\n",
       "\n",
       "    .dataframe tbody tr th {\n",
       "        vertical-align: top;\n",
       "    }\n",
       "\n",
       "    .dataframe thead th {\n",
       "        text-align: right;\n",
       "    }\n",
       "</style>\n",
       "<table border=\"1\" class=\"dataframe\">\n",
       "  <thead>\n",
       "    <tr style=\"text-align: right;\">\n",
       "      <th></th>\n",
       "      <th>PARTICULARS</th>\n",
       "      <th>UNITS</th>\n",
       "      <th>QUANTITY</th>\n",
       "    </tr>\n",
       "  </thead>\n",
       "  <tbody>\n",
       "    <tr>\n",
       "      <th>58</th>\n",
       "      <td>EARTHING SYSTEM- Earthing system including sup...</td>\n",
       "      <td>NaN</td>\n",
       "      <td>NaN</td>\n",
       "    </tr>\n",
       "    <tr>\n",
       "      <th>59</th>\n",
       "      <td>50 X 6 mm G.I. STRIP</td>\n",
       "      <td>M</td>\n",
       "      <td>40.0</td>\n",
       "    </tr>\n",
       "    <tr>\n",
       "      <th>60</th>\n",
       "      <td>25 X 6 mm G.I. STRIP</td>\n",
       "      <td>M</td>\n",
       "      <td>30.0</td>\n",
       "    </tr>\n",
       "    <tr>\n",
       "      <th>61</th>\n",
       "      <td>8 SWG GI WIRE</td>\n",
       "      <td>M</td>\n",
       "      <td>20.0</td>\n",
       "    </tr>\n",
       "  </tbody>\n",
       "</table>\n",
       "</div>"
      ],
      "text/plain": [
       "                                          PARTICULARS UNITS  QUANTITY\n",
       "58  EARTHING SYSTEM- Earthing system including sup...   NaN       NaN\n",
       "59                              50 X 6 mm G.I. STRIP      M      40.0\n",
       "60                              25 X 6 mm G.I. STRIP      M      30.0\n",
       "61                                     8 SWG GI WIRE      M      20.0"
      ]
     },
     "execution_count": 45,
     "metadata": {},
     "output_type": "execute_result"
    }
   ],
   "source": [
    "vertical_concat.iloc[52:56]"
   ]
  },
  {
   "cell_type": "code",
   "execution_count": 46,
   "id": "32eee4c7",
   "metadata": {},
   "outputs": [
    {
     "name": "stdout",
     "output_type": "stream",
     "text": [
      "EARTHING INSTALLATION TIME = 1.8 days\n"
     ]
    }
   ],
   "source": [
    "erth = vertical_concat['QUANTITY'].iloc[52:56].sum()\n",
    "EARTHING_CABLE = erth/50\n",
    "if EARTHING_CABLE > 0.5 and EARTHING_CABLE < 0.9:\n",
    "    EARTHING_CABLE = round(EARTHING_CABLE)\n",
    "else:\n",
    "    EARTHING_CABLE\n",
    "    \n",
    "print('EARTHING INSTALLATION TIME =',EARTHING_CABLE,'days')"
   ]
  },
  {
   "cell_type": "markdown",
   "id": "783f1e2e",
   "metadata": {},
   "source": [
    "# EARTH PITS INSTALLATION TIME"
   ]
  },
  {
   "cell_type": "code",
   "execution_count": 47,
   "id": "aea5ca3b",
   "metadata": {},
   "outputs": [
    {
     "data": {
      "text/html": [
       "<div>\n",
       "<style scoped>\n",
       "    .dataframe tbody tr th:only-of-type {\n",
       "        vertical-align: middle;\n",
       "    }\n",
       "\n",
       "    .dataframe tbody tr th {\n",
       "        vertical-align: top;\n",
       "    }\n",
       "\n",
       "    .dataframe thead th {\n",
       "        text-align: right;\n",
       "    }\n",
       "</style>\n",
       "<table border=\"1\" class=\"dataframe\">\n",
       "  <thead>\n",
       "    <tr style=\"text-align: right;\">\n",
       "      <th></th>\n",
       "      <th>PARTICULARS</th>\n",
       "      <th>UNITS</th>\n",
       "      <th>QUANTITY</th>\n",
       "    </tr>\n",
       "  </thead>\n",
       "  <tbody>\n",
       "    <tr>\n",
       "      <th>62</th>\n",
       "      <td>Treated earth pits as per CEIG specific requir...</td>\n",
       "      <td>NO</td>\n",
       "      <td>1.0</td>\n",
       "    </tr>\n",
       "  </tbody>\n",
       "</table>\n",
       "</div>"
      ],
      "text/plain": [
       "                                          PARTICULARS UNITS  QUANTITY\n",
       "62  Treated earth pits as per CEIG specific requir...    NO       1.0"
      ]
     },
     "execution_count": 47,
     "metadata": {},
     "output_type": "execute_result"
    }
   ],
   "source": [
    "vertical_concat.iloc[56:57]"
   ]
  },
  {
   "cell_type": "code",
   "execution_count": 48,
   "id": "3c6423f7",
   "metadata": {},
   "outputs": [
    {
     "name": "stdout",
     "output_type": "stream",
     "text": [
      "EARTH-PITS INSTALLATION TIME = 1.5 days\n"
     ]
    }
   ],
   "source": [
    "EARTH_PITS = vertical_concat['QUANTITY'].iloc[56:57].sum()*1.5\n",
    "print('EARTH-PITS INSTALLATION TIME =',EARTH_PITS,'days')"
   ]
  },
  {
   "cell_type": "markdown",
   "id": "d060e9c7",
   "metadata": {},
   "source": [
    "# LEVEL SWITCH & PRESSURE SWITCH INSTALLATIONS TIME"
   ]
  },
  {
   "cell_type": "code",
   "execution_count": 49,
   "id": "3427cb88",
   "metadata": {},
   "outputs": [
    {
     "data": {
      "text/html": [
       "<div>\n",
       "<style scoped>\n",
       "    .dataframe tbody tr th:only-of-type {\n",
       "        vertical-align: middle;\n",
       "    }\n",
       "\n",
       "    .dataframe tbody tr th {\n",
       "        vertical-align: top;\n",
       "    }\n",
       "\n",
       "    .dataframe thead th {\n",
       "        text-align: right;\n",
       "    }\n",
       "</style>\n",
       "<table border=\"1\" class=\"dataframe\">\n",
       "  <thead>\n",
       "    <tr style=\"text-align: right;\">\n",
       "      <th></th>\n",
       "      <th>PARTICULARS</th>\n",
       "      <th>UNITS</th>\n",
       "      <th>QUANTITY</th>\n",
       "    </tr>\n",
       "  </thead>\n",
       "  <tbody>\n",
       "    <tr>\n",
       "      <th>63</th>\n",
       "      <td>INSTRUMENTATION</td>\n",
       "      <td>NaN</td>\n",
       "      <td>NaN</td>\n",
       "    </tr>\n",
       "    <tr>\n",
       "      <th>64</th>\n",
       "      <td>Level Switch for Fire Water Storage Tank</td>\n",
       "      <td>NO</td>\n",
       "      <td>2.0</td>\n",
       "    </tr>\n",
       "    <tr>\n",
       "      <th>65</th>\n",
       "      <td>Pressure Gauge, Bourdon Type, 100 mm Dial and ...</td>\n",
       "      <td>NO</td>\n",
       "      <td>5.0</td>\n",
       "    </tr>\n",
       "    <tr>\n",
       "      <th>66</th>\n",
       "      <td>Pressure Switch, SPDT, Measuring Element - Bel...</td>\n",
       "      <td>NO</td>\n",
       "      <td>9.0</td>\n",
       "    </tr>\n",
       "    <tr>\n",
       "      <th>67</th>\n",
       "      <td>200 NB Flow Meter</td>\n",
       "      <td>NO</td>\n",
       "      <td>1.0</td>\n",
       "    </tr>\n",
       "  </tbody>\n",
       "</table>\n",
       "</div>"
      ],
      "text/plain": [
       "                                          PARTICULARS UNITS  QUANTITY\n",
       "63                                    INSTRUMENTATION   NaN       NaN\n",
       "64           Level Switch for Fire Water Storage Tank    NO       2.0\n",
       "65  Pressure Gauge, Bourdon Type, 100 mm Dial and ...    NO       5.0\n",
       "66  Pressure Switch, SPDT, Measuring Element - Bel...    NO       9.0\n",
       "67                                  200 NB Flow Meter    NO       1.0"
      ]
     },
     "execution_count": 49,
     "metadata": {},
     "output_type": "execute_result"
    }
   ],
   "source": [
    "vertical_concat.iloc[57:68]"
   ]
  },
  {
   "cell_type": "code",
   "execution_count": 50,
   "id": "83b207f7",
   "metadata": {},
   "outputs": [
    {
     "name": "stdout",
     "output_type": "stream",
     "text": [
      "LIMIT & PRESSURE SW = 1.7 days\n"
     ]
    }
   ],
   "source": [
    "LSPS_SWITCH = vertical_concat['QUANTITY'].iloc[57:68].sum()/10\n",
    "print('LIMIT & PRESSURE SW =',LSPS_SWITCH,'days')"
   ]
  },
  {
   "cell_type": "markdown",
   "id": "7edca7c6",
   "metadata": {},
   "source": [
    "# TOTAL REQUIRED INSTALLATION  TIME "
   ]
  },
  {
   "cell_type": "code",
   "execution_count": 51,
   "id": "5fae06ba",
   "metadata": {},
   "outputs": [
    {
     "name": "stdout",
     "output_type": "stream",
     "text": [
      "TOTAL INSTALLATIONS TIME = 33.24 Days\n"
     ]
    }
   ],
   "source": [
    "days = [DEVICE,PANEL,CABLE_LAYING,FIRE_EXT_CYL,LT_PANEL_MCC,CONDUIT_LAYING,LT_CABLE_INS_T,TRAY_FIXING,MS_SUPPORT,\n",
    "        EARTHING_CABLE,EARTH_PITS,LSPS_SWITCH]\n",
    "d = 0\n",
    "for i in days:\n",
    "    d = d+i\n",
    "print('TOTAL INSTALLATIONS TIME =', d,'Days')"
   ]
  },
  {
   "cell_type": "code",
   "execution_count": 52,
   "id": "a635a022",
   "metadata": {},
   "outputs": [
    {
     "data": {
      "image/png": "[encoded data removed]",
      "text/plain": [
       "<Figure size 1440x720 with 1 Axes>"
      ]
     },
     "metadata": {},
     "output_type": "display_data"
    }
   ],
   "source": [
    "# # Creating dataset\n",
    "time = ['DEVICE','PANEL','CABLE_LAYING','FIRE_EXT_CYL','LT_PANEL_MCC','CONDUIT_LAYING','LT_CABLE_INS_T',\n",
    "        'TRAY_FIXING','MS_SUPPORT','EARTHING_CABLE','EARTH_PITS','LSPS_SWITCH']\n",
    " \n",
    "# Creating explode data\n",
    "explode = (0.1, 0.0, 0.0, 0.0, 0.0, 0.1,0.1, 0.0, 0.0, 0.0, 0.0, 0.1)\n",
    " \n",
    "# Creating color parameters\n",
    "colors = ( \"olive\", \"cyan\", \"ivory\",\"teal\", \"springgreen\", \"aquamarine\",\"aqua\", \"pink\", \"skyblue\",'violet','thistle','royalblue')\n",
    " \n",
    "# Wedge properties\n",
    "wp = { 'linewidth' : 0.5, 'edgecolor' : \"green\" }\n",
    " \n",
    "# Creating autocpt arguments\n",
    "def func(pct, allvalues):\n",
    "    absolute = int(pct / 100.*np.sum(allvalues))\n",
    "    return \"{:.1f}%\\n({:d} day)\".format(pct, absolute)\n",
    " \n",
    "# Creating plot\n",
    "fig, ax = plt.subplots(figsize =(20, 10))\n",
    "wedges, texts, autotexts = ax.pie(days,\n",
    "                                  autopct = lambda pct: func(pct, days),\n",
    "                                  explode = explode,\n",
    "                                  labels = time,\n",
    "                                  shadow = True,\n",
    "                                  colors = colors,\n",
    "                                  startangle = 90,\n",
    "                                  wedgeprops = wp,\n",
    "                                  textprops = dict(color =\"black\"))\n",
    " \n",
    "# Adding legend /magenta\n",
    "ax.legend(wedges, time,\n",
    "          title =\"TIME\",\n",
    "          loc =\"center left\",\n",
    "          bbox_to_anchor =(1.3, 0.3, 0.5, 1))\n",
    " \n",
    "plt.setp(autotexts, size = 12, weight =\"bold\")\n",
    "ax.set_title(\"REQUIRED TIME FOR INSTALLING JOB\")\n",
    " \n",
    "# show plot\n",
    "plt.show()"
   ]
  },
  {
   "cell_type": "markdown",
   "id": "f7429876",
   "metadata": {},
   "source": [
    "# ACCESSORIESE OF FITING MATERIALS"
   ]
  },
  {
   "cell_type": "code",
   "execution_count": 101,
   "id": "7aab52d6",
   "metadata": {},
   "outputs": [],
   "source": [
    "# for panel & devices accessories \n",
    "\n",
    "t1=vertical_concat.loc[1:4]\n",
    "t2=vertical_concat.loc[5:25]\n",
    "tt = pd.concat([t1,t2],axis=0)\n",
    "t = tt['QUANTITY'].sum()\n",
    "# print('PG Gland = ',t*5)\n",
    "# print('35x8 screw= ',t*3)\n",
    "# print('6mm PVC Fixers= ',t*2)"
   ]
  },
  {
   "cell_type": "code",
   "execution_count": 102,
   "id": "6d77da2a",
   "metadata": {},
   "outputs": [],
   "source": [
    "# for cable saddeling required accessories\n",
    "\n",
    "t3=vertical_concat.loc[27:27]\n",
    "t4=vertical_concat.loc[30:30]\n",
    "tt1 = pd.concat([t3,t4],axis=0)\n",
    "t2 = tt1['QUANTITY'].sum()\n",
    "# print('saddle 12mm = ',t2*3)\n",
    "# print('35x8 screw= ',t2*3)\n",
    "# print('6mm PVC Fixers= ',t2*3)"
   ]
  },
  {
   "cell_type": "code",
   "execution_count": 103,
   "id": "e279a898",
   "metadata": {},
   "outputs": [],
   "source": [
    "t6=vertical_concat.loc[40:44]\n",
    "t3 = t6['QUANTITY'].sum()\n",
    "# print('SS Cable tie=',t3)\n",
    "# print('PVC Cable tie=',t3)\n",
    "# print('240 Sqr. mm SS Gland=', 6 ,'Nos.')\n",
    "# print('16 Sqr. mm SS Gland=', 6 ,'Nos.')"
   ]
  },
  {
   "cell_type": "code",
   "execution_count": 104,
   "id": "fb93f749",
   "metadata": {},
   "outputs": [],
   "source": [
    "#t7=vertical_concat[['PARTICULARS','UNITS','QUANTITY']].loc[50:61]\n",
    "t7=vertical_concat.loc[50:61]\n",
    "t4 = t7['QUANTITY'].sum()\n",
    "# print('For Cable tray nut/bolts 25mm =',t4*.5)"
   ]
  },
  {
   "cell_type": "markdown",
   "id": "8b197db1",
   "metadata": {},
   "source": [
    "# THIS TIME CALCULATED BASED FOR 2 ELECTRICIANS + 2 HELPER = TOTAL 4 PERSONS"
   ]
  },
  {
   "cell_type": "code",
   "execution_count": 105,
   "id": "eb4b8821",
   "metadata": {},
   "outputs": [
    {
     "name": "stdout",
     "output_type": "stream",
     "text": [
      "TOTAL INSTALLATIONS TIME = 33.24 Days\n",
      "TOTAL ELECTRICAL WORK 0RDER VALUE = 2131776.0\n",
      "PG Gland =  220.0\n",
      "35x8 screw=  132.0\n",
      "6mm PVC Fixers=  88.0\n",
      "saddle 12mm =  1050.0\n",
      "35x8 screw=  1050.0\n",
      "6mm PVC Fixers=  1050.0\n",
      "SS Cable tie= 370.0\n",
      "PVC Cable tie= 370.0\n",
      "240 Sqr. mm SS Gland= 6 Nos.\n",
      "16 Sqr. mm SS Gland= 6 Nos.\n",
      "For Cable tray nut/bolts 25mm = 81.65\n"
     ]
    }
   ],
   "source": [
    "print('TOTAL ELECTRICAL WORK 0RDER VALUE =',south_s1)\n",
    "print('TOTAL INSTALLATIONS TIME =', d,'Days')\n",
    "print('PG Gland = ',t*5)\n",
    "print('35x8 screw= ',t*3)\n",
    "print('6mm PVC Fixers= ',t*2)\n",
    "print('saddle 12mm = ',t2*3)\n",
    "print('35x8 screw= ',t2*3)\n",
    "print('6mm PVC Fixers= ',t2*3)\n",
    "print('SS Cable tie=',t3)\n",
    "print('PVC Cable tie=',t3)\n",
    "print('240 Sqr. mm SS Gland=', 6 ,'Nos.')\n",
    "print('16 Sqr. mm SS Gland=', 6 ,'Nos.')\n",
    "print('For Cable tray nut/bolts 25mm =',t4*.5)"
   ]
  },
  {
   "cell_type": "code",
   "execution_count": null,
   "id": "981b5b6c",
   "metadata": {},
   "outputs": [],
   "source": []
  },
  {
   "cell_type": "code",
   "execution_count": null,
   "id": "5f0b788a",
   "metadata": {},
   "outputs": [],
   "source": []
  }
 ],
 "metadata": {
  "kernelspec": {
   "display_name": "Python 3 (ipykernel)",
   "language": "python",
   "name": "python3"
  },
  "language_info": {
   "codemirror_mode": {
    "name": "ipython",
    "version": 3
   },
   "file_extension": ".py",
   "mimetype": "text/x-python",
   "name": "python",
   "nbconvert_exporter": "python",
   "pygments_lexer": "ipython3",
   "version": "3.9.12"
  }
 },
 "nbformat": 4,
 "nbformat_minor": 5
}
